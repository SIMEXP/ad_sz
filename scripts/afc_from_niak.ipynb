{
 "cells": [
  {
   "cell_type": "code",
   "execution_count": 1,
   "id": "5e1e0803",
   "metadata": {},
   "outputs": [],
   "source": [
    "# load libraries\n",
    "import nibabel as nib\n",
    "import pandas as pd\n",
    "import numpy as np\n",
    "\n",
    "from nilearn.connectome import ConnectivityMeasure\n",
    "from nilearn.maskers import NiftiLabelsMasker\n",
    "from nilearn import datasets\n",
    "from pathlib import Path"
   ]
  },
  {
   "cell_type": "code",
   "execution_count": 2,
   "id": "5d1fed86",
   "metadata": {},
   "outputs": [],
   "source": [
    "def correct_mean_var(tseries):\n",
    "    \n",
    "    '''\n",
    "    Correct time series to zero mean and unit variance. Adapted from: \n",
    "    https://github.com/SIMEXP/niak/blob/master/commands/statistics/niak_correct_mean_var.m,\n",
    "    but for a 1D array with the default 'mean_var' only.\n",
    "    ------------------------------------- \n",
    "    TSERIES_N = CORRECT_MEAN_VAR(TSERIES)\n",
    "    \n",
    "    INPUT\n",
    "    TSERIES: (1D array) time series.\n",
    "    \n",
    "    OUTPUT\n",
    "    TSERIES_N: (1D array) same as data after mean/variance correction.\n",
    "    '''\n",
    "    \n",
    "    nt = tseries.shape[0]\n",
    "    tseries = tseries.reshape(nt,-1)\n",
    "    \n",
    "    mean_ts = np.mean(tseries,0)\n",
    "    std_ts = tseries.std()\n",
    "    \n",
    "    tseries_n = (tseries - mean_ts)/std_ts\n",
    "    tseries_n = np.ravel(tseries_n)\n",
    "    \n",
    "    return (tseries_n)"
   ]
  },
  {
   "cell_type": "code",
   "execution_count": 3,
   "id": "0c2f647d",
   "metadata": {},
   "outputs": [],
   "source": [
    "def build_size_roi(mask):\n",
    "    \n",
    "    '''\n",
    "    Extract labels and size of ROIs given a mask. Adapted from:\n",
    "    https://github.com/SIMEXP/niak/blob/master/commands/SI_processing/niak_build_size_roi.m\n",
    "    ------------------------------------- \n",
    "    [SIZE_ROI,LABELS_ROI] = BUILD_SIZE_ROI(MASK)\n",
    "    \n",
    "    INPUT\n",
    "    MASK: (array) voxels belonging to no region are coded with 0, those \n",
    "    belonging to region I are coded with I (I being a positive integer).\n",
    "    \n",
    "    OUTPUTS\n",
    "    SIZE_ROI: (vector) SIZE_ROI(I) is the number of voxels in region number I.\n",
    "\n",
    "    LABELS_ROI: (vector) LABELS_ROI(I) is the label of region I.\n",
    "    '''\n",
    "    \n",
    "    nb_mask = len(mask)\n",
    "    size_roi = np.zeros([nb_mask,1])\n",
    "\n",
    "    labels_roi = np.unique(mask)\n",
    "    labels_roi = labels_roi[labels_roi!=0]\n",
    "\n",
    "    for num_r in range(nb_mask):\n",
    "        size_roi[num_r] = np.count_nonzero(mask==labels_roi[num_r])\n",
    "    \n",
    "    return (size_roi, labels_roi)"
   ]
  },
  {
   "cell_type": "code",
   "execution_count": 4,
   "id": "53fd04f1",
   "metadata": {},
   "outputs": [],
   "source": [
    "def mat2lvec(mat):\n",
    "    \n",
    "    '''\n",
    "    Convert a symmetric matrix into a vector (diagonal elements included). Adapted from:\n",
    "    https://github.com/SIMEXP/niak/blob/master/commands/formats/niak_mat2lvec.m\n",
    "    ------------------------------------- \n",
    "    LVEC = MAT2LVEC(MAT)\n",
    "    \n",
    "    INPUT\n",
    "    MAT: (array) a square matrix. MAT should be symmetric. Diagonal elements \n",
    "    will be included.\n",
    "    \n",
    "    OUTPUTS\n",
    "    LVEC: (vector) a vectorized version of mat. Low-triangular and diagonal values are kept.\n",
    "    '''\n",
    "\n",
    "    N = mat.shape[1]\n",
    "    mask_l = np.tril(np.ones(N, dtype=int))\n",
    "    mask_l = mask_l>0\n",
    "    lvec = mat[mask_l]\n",
    "    \n",
    "    return (lvec)"
   ]
  },
  {
   "cell_type": "code",
   "execution_count": 5,
   "id": "3d748bfd",
   "metadata": {},
   "outputs": [],
   "source": [
    "# Load one subject of brain development fmri data from nilearn\n",
    "data = datasets.fetch_development_fmri(n_subjects=1, reduce_confounds=True)\n",
    "fmri_filenames = data.func[0]\n",
    "reduced_confounds = data.confounds[0]  # This is a preselected set of confounds"
   ]
  },
  {
   "cell_type": "code",
   "execution_count": 6,
   "id": "2e450ff8",
   "metadata": {},
   "outputs": [
    {
     "data": {
      "text/plain": [
       "(53, 64, 52)"
      ]
     },
     "execution_count": 6,
     "metadata": {},
     "output_type": "execute_result"
    }
   ],
   "source": [
    "# Load MIST 64 atlas as mask\n",
    "parcellation = datasets.fetch_atlas_basc_multiscale_2015(version='sym')['scale064']\n",
    "img = nib.load(parcellation)\n",
    "mask = np.array(img.dataobj)\n",
    "mask.shape"
   ]
  },
  {
   "cell_type": "code",
   "execution_count": 7,
   "id": "1c361937",
   "metadata": {},
   "outputs": [
    {
     "name": "stdout",
     "output_type": "stream",
     "text": [
      "[NiftiLabelsMasker.fit_transform] loading data from Nifti1Image('/Users/natashaclarke/nilearn_data/basc_multiscale_2015/template_cambridge_basc_multiscale_nii_sym/template_cambridge_basc_multiscale_sym_scale064.nii.gz')\n",
      "Resampling labels\n",
      "[Memory]0.4s, 0.0min    : Loading _filter_and_extract...\n",
      "__________________________________filter_and_extract cache loaded - 0.0s, 0.0min\n"
     ]
    }
   ],
   "source": [
    "# Compute time series. Here, I am setting 'standardize' to False and then using the function correct_mean_var, \n",
    "# since the time series I will be using are not standardized so wanted to check functionality\n",
    "masker = NiftiLabelsMasker(labels_img=img, standardize=False,\n",
    "                           memory='nilearn_cache', verbose=5)\n",
    "time_series = masker.fit_transform(fmri_filenames, confounds=reduced_confounds)"
   ]
  },
  {
   "cell_type": "code",
   "execution_count": 8,
   "id": "647c7e57",
   "metadata": {},
   "outputs": [],
   "source": [
    "# Correct time series to zero mean and unit variance\n",
    "tseries_n = [correct_mean_var(ts) for ts in time_series.T]  \n",
    "tseries_n = np.array(tseries_n).T"
   ]
  },
  {
   "cell_type": "code",
   "execution_count": 9,
   "id": "e4efc341",
   "metadata": {},
   "outputs": [],
   "source": [
    "# Build connectome from time series\n",
    "correlation_measure = ConnectivityMeasure(kind='correlation')\n",
    "conn = correlation_measure.fit_transform([time_series])[0]"
   ]
  },
  {
   "cell_type": "code",
   "execution_count": 10,
   "id": "78967b02",
   "metadata": {},
   "outputs": [],
   "source": [
    "# Compute AFC. The following cells are adapted from https://github.com/SIMEXP/niak/blob/master/bricks/connectome/niak_brick_connectome.m#L248-L262 \n",
    "# and I have added the corresponding matlab line\n",
    "\n",
    "# NIAK: ir = var(tseries_n,[],1)';\n",
    "ir = tseries_n.var(axis=0) "
   ]
  },
  {
   "cell_type": "code",
   "execution_count": 11,
   "id": "24638766",
   "metadata": {},
   "outputs": [
    {
     "data": {
      "text/plain": [
       "array([[1033.],\n",
       "       [ 420.],\n",
       "       [ 360.],\n",
       "       [ 805.],\n",
       "       [ 517.],\n",
       "       [ 747.],\n",
       "       [ 404.],\n",
       "       [ 285.],\n",
       "       [ 753.],\n",
       "       [ 372.],\n",
       "       [ 977.],\n",
       "       [1133.],\n",
       "       [ 702.],\n",
       "       [ 913.],\n",
       "       [ 816.],\n",
       "       [ 426.],\n",
       "       [ 638.],\n",
       "       [ 769.],\n",
       "       [ 776.],\n",
       "       [ 724.],\n",
       "       [ 356.],\n",
       "       [ 947.],\n",
       "       [ 779.],\n",
       "       [ 936.],\n",
       "       [1072.],\n",
       "       [ 725.],\n",
       "       [1023.],\n",
       "       [ 952.],\n",
       "       [1132.],\n",
       "       [ 685.],\n",
       "       [ 656.],\n",
       "       [ 751.],\n",
       "       [ 377.],\n",
       "       [ 644.],\n",
       "       [1015.],\n",
       "       [1013.],\n",
       "       [ 868.],\n",
       "       [ 722.],\n",
       "       [ 777.],\n",
       "       [ 951.],\n",
       "       [1126.],\n",
       "       [ 646.],\n",
       "       [1052.],\n",
       "       [ 940.],\n",
       "       [1487.],\n",
       "       [1749.],\n",
       "       [1255.],\n",
       "       [ 966.],\n",
       "       [ 708.],\n",
       "       [1105.],\n",
       "       [1317.],\n",
       "       [1173.],\n",
       "       [1206.]])"
      ]
     },
     "execution_count": 11,
     "metadata": {},
     "output_type": "execute_result"
    }
   ],
   "source": [
    "# Get size of ROIs\n",
    "\n",
    "# NIAK: N = niak_build_size_roi (all_mask{num_m});\n",
    "N, labels = build_size_roi(mask) \n",
    "N"
   ]
  },
  {
   "cell_type": "code",
   "execution_count": 12,
   "id": "25a6dc54",
   "metadata": {},
   "outputs": [],
   "source": [
    "# NIAK: mask_0 = (N==0)|(N==1);\n",
    "mask_0 = (N==0)|(N==1) "
   ]
  },
  {
   "cell_type": "code",
   "execution_count": 13,
   "id": "aa8e0dcb",
   "metadata": {},
   "outputs": [
    {
     "data": {
      "text/plain": [
       "array([[1., 1., 1., ..., 1., 1., 1.],\n",
       "       [1., 1., 1., ..., 1., 1., 1.],\n",
       "       [1., 1., 1., ..., 1., 1., 1.],\n",
       "       ...,\n",
       "       [1., 1., 1., ..., 1., 1., 1.],\n",
       "       [1., 1., 1., ..., 1., 1., 1.],\n",
       "       [1., 1., 1., ..., 1., 1., 1.]])"
      ]
     },
     "execution_count": 13,
     "metadata": {},
     "output_type": "execute_result"
    }
   ],
   "source": [
    "# NIAK: ir = ((N.^2).*ir-N)./(N.*(N-1));\n",
    "# This is not correct because it should result in a 64x1 array, but I can't work out what it should be...\n",
    "ir = ((N*N)*ir-N)/(N*(N-1))\n",
    "ir"
   ]
  },
  {
   "cell_type": "code",
   "execution_count": 14,
   "id": "7f8affaa",
   "metadata": {},
   "outputs": [
    {
     "ename": "IndexError",
     "evalue": "boolean index did not match indexed array along dimension 1; dimension is 64 but corresponding boolean dimension is 1",
     "output_type": "error",
     "traceback": [
      "\u001b[0;31m---------------------------------------------------------------------------\u001b[0m",
      "\u001b[0;31mIndexError\u001b[0m                                Traceback (most recent call last)",
      "\u001b[0;32m<ipython-input-14-8867ad0a31ca>\u001b[0m in \u001b[0;36m<module>\u001b[0;34m\u001b[0m\n\u001b[1;32m      1\u001b[0m \u001b[0;31m# NIAK: ir(mask_0) = 0;\u001b[0m\u001b[0;34m\u001b[0m\u001b[0;34m\u001b[0m\u001b[0;34m\u001b[0m\u001b[0m\n\u001b[1;32m      2\u001b[0m \u001b[0;31m# throws error\u001b[0m\u001b[0;34m\u001b[0m\u001b[0;34m\u001b[0m\u001b[0;34m\u001b[0m\u001b[0m\n\u001b[0;32m----> 3\u001b[0;31m \u001b[0mir\u001b[0m\u001b[0;34m[\u001b[0m\u001b[0mmask_0\u001b[0m\u001b[0;34m]\u001b[0m \u001b[0;34m=\u001b[0m \u001b[0;36m0\u001b[0m\u001b[0;34m\u001b[0m\u001b[0;34m\u001b[0m\u001b[0m\n\u001b[0m\u001b[1;32m      4\u001b[0m \u001b[0mir\u001b[0m\u001b[0;34m[\u001b[0m\u001b[0mmask_0\u001b[0m\u001b[0;34m]\u001b[0m\u001b[0;34m\u001b[0m\u001b[0;34m\u001b[0m\u001b[0m\n",
      "\u001b[0;31mIndexError\u001b[0m: boolean index did not match indexed array along dimension 1; dimension is 64 but corresponding boolean dimension is 1"
     ]
    }
   ],
   "source": [
    "# NIAK: ir(mask_0) = 0;\n",
    "# throws error\n",
    "ir[mask_0] = 0\n",
    "ir[mask_0]"
   ]
  },
  {
   "cell_type": "code",
   "execution_count": 15,
   "id": "de956eb7",
   "metadata": {},
   "outputs": [
    {
     "ename": "ValueError",
     "evalue": "shape mismatch: value array of shape (53,64)  could not be broadcast to indexing result of shape (64,)",
     "output_type": "error",
     "traceback": [
      "\u001b[0;31m---------------------------------------------------------------------------\u001b[0m",
      "\u001b[0;31mValueError\u001b[0m                                Traceback (most recent call last)",
      "\u001b[0;32m<ipython-input-15-0c349150be3e>\u001b[0m in \u001b[0;36m<module>\u001b[0;34m\u001b[0m\n\u001b[1;32m      2\u001b[0m \u001b[0;31m# I think the below is doing what the NIAK code is, but unsure since the result of my 'ir' is incorrect\u001b[0m\u001b[0;34m\u001b[0m\u001b[0;34m\u001b[0m\u001b[0;34m\u001b[0m\u001b[0m\n\u001b[1;32m      3\u001b[0m \u001b[0mdiagonal\u001b[0m \u001b[0;34m=\u001b[0m \u001b[0mnp\u001b[0m\u001b[0;34m.\u001b[0m\u001b[0mdiag_indices_from\u001b[0m\u001b[0;34m(\u001b[0m\u001b[0mconn\u001b[0m\u001b[0;34m)\u001b[0m\u001b[0;34m\u001b[0m\u001b[0;34m\u001b[0m\u001b[0m\n\u001b[0;32m----> 4\u001b[0;31m \u001b[0mconn\u001b[0m\u001b[0;34m[\u001b[0m\u001b[0mdiagonal\u001b[0m\u001b[0;34m]\u001b[0m \u001b[0;34m=\u001b[0m \u001b[0mir\u001b[0m\u001b[0;34m\u001b[0m\u001b[0;34m\u001b[0m\u001b[0m\n\u001b[0m",
      "\u001b[0;31mValueError\u001b[0m: shape mismatch: value array of shape (53,64)  could not be broadcast to indexing result of shape (64,)"
     ]
    }
   ],
   "source": [
    "# NIAK: conn(eye(size(conn))>0) = ir; % A tricky formula to add the average correlation within each network, at the voxel level, on the diagonal\n",
    "# I think the below is doing what the NIAK code is, but unsure since the result of my 'ir' is incorrect\n",
    "diagonal = np.diag_indices_from(conn)\n",
    "conn[diagonal] = ir"
   ]
  },
  {
   "cell_type": "code",
   "execution_count": 16,
   "id": "54841914",
   "metadata": {},
   "outputs": [],
   "source": [
    "# Convert conn to lower vector\n",
    "conn_lvec = mat2lvec(conn)"
   ]
  },
  {
   "cell_type": "code",
   "execution_count": 17,
   "id": "cb9c91e4",
   "metadata": {},
   "outputs": [
    {
     "name": "stderr",
     "output_type": "stream",
     "text": [
      "<ipython-input-17-a37c8a662f89>:2: RuntimeWarning: divide by zero encountered in arctanh\n",
      "  conn_z = np.arctanh(conn_lvec)\n"
     ]
    }
   ],
   "source": [
    "# Fisher-Z transform, unsure how to handle the inf and nan values?\n",
    "conn_z = np.arctanh(conn_lvec) "
   ]
  },
  {
   "cell_type": "code",
   "execution_count": null,
   "id": "aa5d04cd",
   "metadata": {},
   "outputs": [],
   "source": []
  },
  {
   "cell_type": "code",
   "execution_count": null,
   "id": "eefa8995",
   "metadata": {},
   "outputs": [],
   "source": []
  },
  {
   "cell_type": "code",
   "execution_count": null,
   "id": "e33e1c7c",
   "metadata": {},
   "outputs": [],
   "source": []
  },
  {
   "cell_type": "code",
   "execution_count": null,
   "id": "cc6d0339",
   "metadata": {},
   "outputs": [],
   "source": []
  }
 ],
 "metadata": {
  "kernelspec": {
   "display_name": "Python 3",
   "language": "python",
   "name": "python3"
  },
  "language_info": {
   "codemirror_mode": {
    "name": "ipython",
    "version": 3
   },
   "file_extension": ".py",
   "mimetype": "text/x-python",
   "name": "python",
   "nbconvert_exporter": "python",
   "pygments_lexer": "ipython3",
   "version": "3.9.5"
  }
 },
 "nbformat": 4,
 "nbformat_minor": 5
}
