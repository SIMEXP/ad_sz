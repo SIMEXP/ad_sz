{
 "cells": [
  {
   "cell_type": "code",
   "execution_count": 2,
   "id": "1fb5ca33",
   "metadata": {},
   "outputs": [],
   "source": [
    "import pandas as pd\n",
    "import numpy as np\n",
    "\n",
    "from pathlib import Path"
   ]
  },
  {
   "cell_type": "code",
   "execution_count": 3,
   "id": "b32ccb81",
   "metadata": {},
   "outputs": [],
   "source": [
    "# paths to files\n",
    "biomarker_data = Path(\"__file__\").resolve().parents[1] / 'data' / 'master_biomarkers.csv'"
   ]
  },
  {
   "cell_type": "code",
   "execution_count": 4,
   "id": "b6ef4aa2",
   "metadata": {},
   "outputs": [],
   "source": [
    "# load baseline data\n",
    "df = pd.read_csv(biomarker_data, index_col=0, header=0)"
   ]
  },
  {
   "cell_type": "code",
   "execution_count": 5,
   "id": "472683af",
   "metadata": {},
   "outputs": [],
   "source": [
    "# set thresholds and calculate 5% margin"
   ]
  },
  {
   "cell_type": "code",
   "execution_count": 6,
   "id": "d328eab4",
   "metadata": {},
   "outputs": [],
   "source": [
    "# CSF biomarkers\n",
    "\n",
    "ab42_threshold = 980\n",
    "ab42_margin = (5*ab42_threshold)/100\n",
    "ab42_upper = ab42_threshold+ab42_margin\n",
    "ab42_lower = ab42_threshold-ab42_margin\n",
    "\n",
    "ptau_threshold = 23\n",
    "ptau_margin = (5*ptau_threshold)/100\n",
    "ptau_upper = ptau_threshold+ptau_margin\n",
    "ptau_lower = ptau_threshold-ptau_margin"
   ]
  },
  {
   "cell_type": "code",
   "execution_count": 7,
   "id": "4ece8a39",
   "metadata": {},
   "outputs": [],
   "source": [
    "# PET biomarkers"
   ]
  },
  {
   "cell_type": "code",
   "execution_count": 9,
   "id": "224347b5",
   "metadata": {},
   "outputs": [],
   "source": [
    "fbb_threshold = 1.08\n",
    "fbb_margin = (5*fbb_threshold)/100\n",
    "fbb_upper = fbb_threshold+fbb_margin\n",
    "fbb_lower = fbb_threshold-fbb_margin\n",
    "\n",
    "av45_threshold = 1.08\n",
    "av45_margin = (5*av45_threshold)/100\n",
    "av45_upper = av45_threshold+av45_margin\n",
    "av45_lower = av45_threshold-av45_margin\n",
    "\n",
    "tau_threshold = 1.37\n",
    "tau_margin = (5*tau_threshold)/100\n",
    "tau_upper = tau_threshold+tau_margin\n",
    "tau_lower = tau_threshold-tau_margin"
   ]
  },
  {
   "cell_type": "code",
   "execution_count": 11,
   "id": "82cfa93c",
   "metadata": {},
   "outputs": [
    {
     "data": {
      "text/plain": [
       "612"
      ]
     },
     "execution_count": 11,
     "metadata": {},
     "output_type": "execute_result"
    }
   ],
   "source": [
    "len (df)"
   ]
  },
  {
   "cell_type": "code",
   "execution_count": 13,
   "id": "d0b8a60f",
   "metadata": {},
   "outputs": [
    {
     "data": {
      "text/plain": [
       "612"
      ]
     },
     "execution_count": 13,
     "metadata": {},
     "output_type": "execute_result"
    }
   ],
   "source": [
    "df.index.nunique()"
   ]
  },
  {
   "cell_type": "code",
   "execution_count": 20,
   "id": "e1a51dbc",
   "metadata": {},
   "outputs": [
    {
     "name": "stdout",
     "output_type": "stream",
     "text": [
      "N=80 participants dropped due to no biomarker data.\n"
     ]
    }
   ],
   "source": [
    "# drop participants who don't have any biomarker data\n",
    "df_bio = df.dropna(subset=['ABETA','PTAU','AV45','FBB','META_TEMPORAL_SUVR'], how='all')\n",
    "print ('N={} participants dropped due to no biomarker data.'.format(len(df)-len(df_bio)))"
   ]
  },
  {
   "cell_type": "code",
   "execution_count": null,
   "id": "1ce1347b",
   "metadata": {},
   "outputs": [],
   "source": [
    "# replace some biomarker data which has been coded as > or <\n",
    "\n",
    "df_bio.replace({'ABETA': {'>1700': 1701, '<200': 199}}, inplace=True)\n",
    "df_bio.replace({'PTAU': {'<8': 7, '>120':121}}, inplace=True)\n",
    "df_bio[['ABETA', 'PTAU']] = df_bio[['ABETA', 'PTAU']].apply(pd.to_numeric)"
   ]
  },
  {
   "cell_type": "code",
   "execution_count": 17,
   "id": "e2f3274b",
   "metadata": {},
   "outputs": [
    {
     "data": {
      "text/plain": [
       "Research Group\n",
       "AD       51\n",
       "CN      313\n",
       "EMCI     50\n",
       "LMCI     32\n",
       "MCI      56\n",
       "SMC      25\n",
       "dtype: int64"
      ]
     },
     "execution_count": 17,
     "metadata": {},
     "output_type": "execute_result"
    }
   ],
   "source": [
    "df_bio.groupby(['Research Group']).size()"
   ]
  },
  {
   "cell_type": "code",
   "execution_count": 19,
   "id": "d7808808",
   "metadata": {},
   "outputs": [
    {
     "data": {
      "text/html": [
       "<div>\n",
       "<style scoped>\n",
       "    .dataframe tbody tr th:only-of-type {\n",
       "        vertical-align: middle;\n",
       "    }\n",
       "\n",
       "    .dataframe tbody tr th {\n",
       "        vertical-align: top;\n",
       "    }\n",
       "\n",
       "    .dataframe thead th {\n",
       "        text-align: right;\n",
       "    }\n",
       "</style>\n",
       "<table border=\"1\" class=\"dataframe\">\n",
       "  <thead>\n",
       "    <tr style=\"text-align: right;\">\n",
       "      <th></th>\n",
       "      <th>Subject ID</th>\n",
       "      <th>Phase</th>\n",
       "      <th>Sex</th>\n",
       "      <th>Research Group</th>\n",
       "      <th>Visit</th>\n",
       "      <th>Study Date</th>\n",
       "      <th>Age</th>\n",
       "      <th>session</th>\n",
       "      <th>date_lower</th>\n",
       "      <th>date_upper</th>\n",
       "      <th>META_TEMPORAL_SUVR</th>\n",
       "      <th>META_TEMPORAL_SUVR_EXAMDATE</th>\n",
       "      <th>ABETA</th>\n",
       "      <th>ABETA_EXAMDATE</th>\n",
       "      <th>PTAU</th>\n",
       "      <th>PTAU_EXAMDATE</th>\n",
       "      <th>AV45</th>\n",
       "      <th>AV45_EXAMDATE</th>\n",
       "      <th>FBB</th>\n",
       "      <th>FBB_EXAMDATE</th>\n",
       "    </tr>\n",
       "    <tr>\n",
       "      <th>RID</th>\n",
       "      <th></th>\n",
       "      <th></th>\n",
       "      <th></th>\n",
       "      <th></th>\n",
       "      <th></th>\n",
       "      <th></th>\n",
       "      <th></th>\n",
       "      <th></th>\n",
       "      <th></th>\n",
       "      <th></th>\n",
       "      <th></th>\n",
       "      <th></th>\n",
       "      <th></th>\n",
       "      <th></th>\n",
       "      <th></th>\n",
       "      <th></th>\n",
       "      <th></th>\n",
       "      <th></th>\n",
       "      <th></th>\n",
       "      <th></th>\n",
       "    </tr>\n",
       "  </thead>\n",
       "  <tbody>\n",
       "    <tr>\n",
       "      <th>21</th>\n",
       "      <td>011_S_0021</td>\n",
       "      <td>ADNI 3</td>\n",
       "      <td>F</td>\n",
       "      <td>CN</td>\n",
       "      <td>ADNI3 Initial Visit-Cont Pt</td>\n",
       "      <td>1/25/2018</td>\n",
       "      <td>84.9</td>\n",
       "      <td>2018-01-25</td>\n",
       "      <td>2017-01-25</td>\n",
       "      <td>2019-01-25</td>\n",
       "      <td>1.2700</td>\n",
       "      <td>2018-02-02</td>\n",
       "      <td>NaN</td>\n",
       "      <td>NaN</td>\n",
       "      <td>NaN</td>\n",
       "      <td>NaN</td>\n",
       "      <td>1.0376</td>\n",
       "      <td>2017-11-27</td>\n",
       "      <td>NaN</td>\n",
       "      <td>NaN</td>\n",
       "    </tr>\n",
       "    <tr>\n",
       "      <th>31</th>\n",
       "      <td>023_S_0031</td>\n",
       "      <td>ADNI 3</td>\n",
       "      <td>F</td>\n",
       "      <td>CN</td>\n",
       "      <td>ADNI3 Initial Visit-Cont Pt</td>\n",
       "      <td>4/17/2018</td>\n",
       "      <td>90.3</td>\n",
       "      <td>2018-04-17</td>\n",
       "      <td>2017-04-17</td>\n",
       "      <td>2019-04-17</td>\n",
       "      <td>1.1098</td>\n",
       "      <td>2018-04-24</td>\n",
       "      <td>NaN</td>\n",
       "      <td>2016-01-26</td>\n",
       "      <td>NaN</td>\n",
       "      <td>2016-01-26</td>\n",
       "      <td>1.5034</td>\n",
       "      <td>2018-04-17</td>\n",
       "      <td>NaN</td>\n",
       "      <td>NaN</td>\n",
       "    </tr>\n",
       "    <tr>\n",
       "      <th>56</th>\n",
       "      <td>067_S_0056</td>\n",
       "      <td>ADNI 3</td>\n",
       "      <td>F</td>\n",
       "      <td>CN</td>\n",
       "      <td>ADNI3 Year 1 Visit</td>\n",
       "      <td>1/10/2019</td>\n",
       "      <td>82.8</td>\n",
       "      <td>2019-01-10</td>\n",
       "      <td>2018-01-10</td>\n",
       "      <td>2020-01-10</td>\n",
       "      <td>1.2115</td>\n",
       "      <td>2019-01-10</td>\n",
       "      <td>NaN</td>\n",
       "      <td>2010-12-10</td>\n",
       "      <td>NaN</td>\n",
       "      <td>2010-12-10</td>\n",
       "      <td>0.9688</td>\n",
       "      <td>2019-12-03</td>\n",
       "      <td>NaN</td>\n",
       "      <td>NaN</td>\n",
       "    </tr>\n",
       "    <tr>\n",
       "      <th>59</th>\n",
       "      <td>067_S_0059</td>\n",
       "      <td>ADNI 3</td>\n",
       "      <td>F</td>\n",
       "      <td>CN</td>\n",
       "      <td>ADNI3 Initial Visit-Cont Pt</td>\n",
       "      <td>12/20/2017</td>\n",
       "      <td>83.0</td>\n",
       "      <td>2017-12-20</td>\n",
       "      <td>2016-12-20</td>\n",
       "      <td>2018-12-20</td>\n",
       "      <td>1.2017</td>\n",
       "      <td>2017-12-12</td>\n",
       "      <td>NaN</td>\n",
       "      <td>2010-12-10</td>\n",
       "      <td>NaN</td>\n",
       "      <td>2010-12-10</td>\n",
       "      <td>0.9898</td>\n",
       "      <td>2017-12-12</td>\n",
       "      <td>NaN</td>\n",
       "      <td>NaN</td>\n",
       "    </tr>\n",
       "    <tr>\n",
       "      <th>69</th>\n",
       "      <td>100_S_0069</td>\n",
       "      <td>ADNI 2</td>\n",
       "      <td>M</td>\n",
       "      <td>CN</td>\n",
       "      <td>ADNI2 Year 2 Visit</td>\n",
       "      <td>1/28/2014</td>\n",
       "      <td>81.1</td>\n",
       "      <td>2014-01-28</td>\n",
       "      <td>2013-01-28</td>\n",
       "      <td>2015-01-28</td>\n",
       "      <td>NaN</td>\n",
       "      <td>2018-04-03</td>\n",
       "      <td>NaN</td>\n",
       "      <td>NaN</td>\n",
       "      <td>NaN</td>\n",
       "      <td>NaN</td>\n",
       "      <td>0.9592</td>\n",
       "      <td>2014-01-28</td>\n",
       "      <td>NaN</td>\n",
       "      <td>NaN</td>\n",
       "    </tr>\n",
       "  </tbody>\n",
       "</table>\n",
       "</div>"
      ],
      "text/plain": [
       "     Subject ID   Phase Sex Research Group                        Visit  \\\n",
       "RID                                                                       \n",
       "21   011_S_0021  ADNI 3   F             CN  ADNI3 Initial Visit-Cont Pt   \n",
       "31   023_S_0031  ADNI 3   F             CN  ADNI3 Initial Visit-Cont Pt   \n",
       "56   067_S_0056  ADNI 3   F             CN           ADNI3 Year 1 Visit   \n",
       "59   067_S_0059  ADNI 3   F             CN  ADNI3 Initial Visit-Cont Pt   \n",
       "69   100_S_0069  ADNI 2   M             CN           ADNI2 Year 2 Visit   \n",
       "\n",
       "     Study Date   Age     session  date_lower  date_upper  META_TEMPORAL_SUVR  \\\n",
       "RID                                                                             \n",
       "21    1/25/2018  84.9  2018-01-25  2017-01-25  2019-01-25              1.2700   \n",
       "31    4/17/2018  90.3  2018-04-17  2017-04-17  2019-04-17              1.1098   \n",
       "56    1/10/2019  82.8  2019-01-10  2018-01-10  2020-01-10              1.2115   \n",
       "59   12/20/2017  83.0  2017-12-20  2016-12-20  2018-12-20              1.2017   \n",
       "69    1/28/2014  81.1  2014-01-28  2013-01-28  2015-01-28                 NaN   \n",
       "\n",
       "    META_TEMPORAL_SUVR_EXAMDATE ABETA ABETA_EXAMDATE PTAU PTAU_EXAMDATE  \\\n",
       "RID                                                                       \n",
       "21                   2018-02-02   NaN            NaN  NaN           NaN   \n",
       "31                   2018-04-24   NaN     2016-01-26  NaN    2016-01-26   \n",
       "56                   2019-01-10   NaN     2010-12-10  NaN    2010-12-10   \n",
       "59                   2017-12-12   NaN     2010-12-10  NaN    2010-12-10   \n",
       "69                   2018-04-03   NaN            NaN  NaN           NaN   \n",
       "\n",
       "       AV45 AV45_EXAMDATE  FBB FBB_EXAMDATE  \n",
       "RID                                          \n",
       "21   1.0376    2017-11-27  NaN          NaN  \n",
       "31   1.5034    2018-04-17  NaN          NaN  \n",
       "56   0.9688    2019-12-03  NaN          NaN  \n",
       "59   0.9898    2017-12-12  NaN          NaN  \n",
       "69   0.9592    2014-01-28  NaN          NaN  "
      ]
     },
     "execution_count": 19,
     "metadata": {},
     "output_type": "execute_result"
    }
   ],
   "source": [
    "df.head()"
   ]
  },
  {
   "cell_type": "code",
   "execution_count": null,
   "id": "1b1242ce",
   "metadata": {},
   "outputs": [],
   "source": []
  }
 ],
 "metadata": {
  "kernelspec": {
   "display_name": "Python 3",
   "language": "python",
   "name": "python3"
  },
  "language_info": {
   "codemirror_mode": {
    "name": "ipython",
    "version": 3
   },
   "file_extension": ".py",
   "mimetype": "text/x-python",
   "name": "python",
   "nbconvert_exporter": "python",
   "pygments_lexer": "ipython3",
   "version": "3.9.5"
  }
 },
 "nbformat": 4,
 "nbformat_minor": 5
}
