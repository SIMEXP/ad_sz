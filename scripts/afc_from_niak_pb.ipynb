{
 "cells": [
  {
   "cell_type": "code",
   "execution_count": 1,
   "id": "b105e960",
   "metadata": {},
   "outputs": [],
   "source": [
    "# load libraries\n",
    "import nibabel as nib\n",
    "import pandas as pd\n",
    "import numpy as np\n",
    "\n",
    "from nilearn.connectome import ConnectivityMeasure\n",
    "from nilearn.maskers import NiftiLabelsMasker\n",
    "from nilearn import datasets\n",
    "from pathlib import Path"
   ]
  },
  {
   "cell_type": "code",
   "execution_count": 2,
   "id": "a0e143e8",
   "metadata": {},
   "outputs": [],
   "source": [
    "def correct_mean_var(tseries):\n",
    "    \n",
    "    '''\n",
    "    Correct time series to zero mean and unit variance. Adapted from: \n",
    "    https://github.com/SIMEXP/niak/blob/master/commands/statistics/niak_correct_mean_var.m,\n",
    "    but for a 1D array with the default 'mean_var' only.\n",
    "    ------------------------------------- \n",
    "    TSERIES_N = CORRECT_MEAN_VAR(TSERIES)\n",
    "    \n",
    "    INPUT\n",
    "    TSERIES: (1D array) time series.\n",
    "    \n",
    "    OUTPUT\n",
    "    TSERIES_N: (1D array) same as data after mean/variance correction.\n",
    "    '''\n",
    "    \n",
    "    nt = tseries.shape[0]\n",
    "    tseries = tseries.reshape(nt,-1)\n",
    "    \n",
    "    mean_ts = np.mean(tseries,0)\n",
    "    std_ts = tseries.std()\n",
    "    \n",
    "    tseries_n = (tseries - mean_ts)/std_ts\n",
    "    tseries_n = np.ravel(tseries_n)\n",
    "    \n",
    "    return (tseries_n)"
   ]
  },
  {
   "cell_type": "code",
   "execution_count": 62,
   "id": "92b5a6a0",
   "metadata": {},
   "outputs": [],
   "source": [
    "def build_size_roi(mask):\n",
    "    \n",
    "    '''\n",
    "    Extract labels and size of ROIs given a mask. Adapted from:\n",
    "    https://github.com/SIMEXP/niak/blob/master/commands/SI_processing/niak_build_size_roi.m\n",
    "    ------------------------------------- \n",
    "    [SIZE_ROI,LABELS_ROI] = BUILD_SIZE_ROI(MASK)\n",
    "    \n",
    "    INPUT\n",
    "    MASK: (array) voxels belonging to no region are coded with 0, those \n",
    "    belonging to region I are coded with I (I being a positive integer).\n",
    "    \n",
    "    OUTPUTS\n",
    "    SIZE_ROI: (vector) SIZE_ROI(I) is the number of voxels in region number I.\n",
    "\n",
    "    LABELS_ROI: (vector) LABELS_ROI(I) is the label of region I.\n",
    "    '''\n",
    "    labels_roi = np.unique(mask)\n",
    "    labels_roi = labels_roi[labels_roi!=0]\n",
    "    \n",
    "    nb_roi = len(labels_roi)\n",
    "    size_roi = np.zeros([nb_roi,1])\n",
    "    \n",
    "    for num_r in range(nb_roi):\n",
    "        size_roi[num_r] = np.count_nonzero(mask==labels_roi[num_r])\n",
    "    \n",
    "    return (size_roi, labels_roi)"
   ]
  },
  {
   "cell_type": "code",
   "execution_count": 4,
   "id": "e0e97e91",
   "metadata": {},
   "outputs": [],
   "source": [
    "def mat2lvec(mat):\n",
    "    \n",
    "    '''\n",
    "    Convert a symmetric matrix into a vector (diagonal elements included). Adapted from:\n",
    "    https://github.com/SIMEXP/niak/blob/master/commands/formats/niak_mat2lvec.m\n",
    "    ------------------------------------- \n",
    "    LVEC = MAT2LVEC(MAT)\n",
    "    \n",
    "    INPUT\n",
    "    MAT: (array) a square matrix. MAT should be symmetric. Diagonal elements \n",
    "    will be included.\n",
    "    \n",
    "    OUTPUTS\n",
    "    LVEC: (vector) a vectorized version of mat. Low-triangular and diagonal values are kept.\n",
    "    '''\n",
    "\n",
    "    N = mat.shape[1]\n",
    "    mask_l = np.tril(np.ones(N, dtype=int))\n",
    "    mask_l = mask_l>0\n",
    "    lvec = mat[mask_l]\n",
    "    \n",
    "    return (lvec)"
   ]
  },
  {
   "cell_type": "markdown",
   "id": "12f1f8fe",
   "metadata": {},
   "source": [
    "# Intra-network average connectivity"
   ]
  },
  {
   "cell_type": "markdown",
   "id": "52c71a78",
   "metadata": {},
   "source": [
    "We first get the mask of parcels"
   ]
  },
  {
   "cell_type": "code",
   "execution_count": 5,
   "id": "f4d16efe",
   "metadata": {},
   "outputs": [
    {
     "data": {
      "text/plain": [
       "(53, 64, 52)"
      ]
     },
     "execution_count": 5,
     "metadata": {},
     "output_type": "execute_result"
    }
   ],
   "source": [
    "# Load MIST 64 atlas as mask\n",
    "parcellation = datasets.fetch_atlas_basc_multiscale_2015(version='sym')['scale064']\n",
    "img_mist = nib.load(parcellation)\n",
    "img_mist.shape"
   ]
  },
  {
   "cell_type": "markdown",
   "id": "2cb1a278",
   "metadata": {},
   "source": [
    "Fetch a demo dataset"
   ]
  },
  {
   "cell_type": "code",
   "execution_count": 6,
   "id": "fc917e94",
   "metadata": {},
   "outputs": [],
   "source": [
    "# Load a few brain development fmri datasets from nilearn\n",
    "data = datasets.fetch_development_fmri(n_subjects=1, reduce_confounds=True)\n",
    "imgs = data.func[0:10]\n",
    "confounds = data.confounds[0:10]  # This is a preselected set of confounds"
   ]
  },
  {
   "cell_type": "markdown",
   "id": "d957a30c",
   "metadata": {},
   "source": [
    "Build a group mask of fMRI brains for this mini-study. Let's start by generating brain masks from the fMRI time series. "
   ]
  },
  {
   "cell_type": "code",
   "execution_count": 13,
   "id": "017a6b87",
   "metadata": {},
   "outputs": [],
   "source": [
    "from nilearn.masking import compute_multi_epi_mask\n",
    "mask_epi = compute_multi_epi_mask(imgs, lower_cutoff=0.2, upper_cutoff=0.85, connected=True, \n",
    "                       opening=2, threshold=0.5, target_affine=None, target_shape=None, \n",
    "                       exclude_zeros=False, n_jobs=1, memory=None, verbose=0)"
   ]
  },
  {
   "cell_type": "code",
   "execution_count": 17,
   "id": "44ab546b",
   "metadata": {},
   "outputs": [
    {
     "data": {
      "text/plain": [
       "<nilearn.plotting.displays._slicers.OrthoSlicer at 0x7f8905fbaf70>"
      ]
     },
     "execution_count": 17,
     "metadata": {},
     "output_type": "execute_result"
    },
    {
     "data": {
      "image/png": "[encoded data removed]",
      "text/plain": [
       "<Figure size 660x260 with 4 Axes>"
      ]
     },
     "metadata": {},
     "output_type": "display_data"
    }
   ],
   "source": [
    "from nilearn.plotting import plot_roi\n",
    "plot_roi(mask_epi, resampling_interpolation='nearest')"
   ]
  },
  {
   "cell_type": "markdown",
   "id": "fd244d81",
   "metadata": {},
   "source": [
    "Now let's get a grey matter mask: "
   ]
  },
  {
   "cell_type": "code",
   "execution_count": 21,
   "id": "eb4be853",
   "metadata": {},
   "outputs": [],
   "source": [
    "#from nilearn.maskers import MultiNiftiMasker\n",
    "#multi_masker = MultiNiftiMasker(mask_img=None, mask_strategy='epi', smoothing_fwhm=3)\n",
    "#multi_masker.fit(imgs=imgs)\n",
    "from nilearn.datasets import fetch_icbm152_brain_gm_mask\n",
    "from nilearn.image import resample_to_img\n",
    "mask_mni = fetch_icbm152_brain_gm_mask()\n",
    "mask_mni = resample_to_img(source_img=mask_mni, target_img=imgs[0], interpolation='nearest')"
   ]
  },
  {
   "cell_type": "markdown",
   "id": "a9a3f3c8",
   "metadata": {},
   "source": [
    "Let's visualize it"
   ]
  },
  {
   "cell_type": "code",
   "execution_count": 22,
   "id": "ff838c14",
   "metadata": {},
   "outputs": [
    {
     "data": {
      "text/plain": [
       "<nilearn.plotting.displays._slicers.OrthoSlicer at 0x7f8904e67220>"
      ]
     },
     "execution_count": 22,
     "metadata": {},
     "output_type": "execute_result"
    },
    {
     "data": {
      "image/png": "[encoded data removed]",
      "text/plain": [
       "<Figure size 660x260 with 4 Axes>"
      ]
     },
     "metadata": {},
     "output_type": "display_data"
    }
   ],
   "source": [
    "from nilearn.plotting import plot_roi\n",
    "plot_roi(mask_mni, resampling_interpolation='nearest')"
   ]
  },
  {
   "cell_type": "markdown",
   "id": "a5250098",
   "metadata": {},
   "source": [
    "now we combine both masks into one:"
   ]
  },
  {
   "cell_type": "code",
   "execution_count": 24,
   "id": "3a29a836",
   "metadata": {},
   "outputs": [],
   "source": [
    "from nilearn.image import math_img\n",
    "mask_combined = math_img('img1 & img2', img1=mask_epi, img2=mask_mni)"
   ]
  },
  {
   "cell_type": "code",
   "execution_count": 25,
   "id": "109f49ab",
   "metadata": {},
   "outputs": [
    {
     "data": {
      "text/plain": [
       "<nilearn.plotting.displays._slicers.OrthoSlicer at 0x7f89049c5550>"
      ]
     },
     "execution_count": 25,
     "metadata": {},
     "output_type": "execute_result"
    },
    {
     "data": {
      "image/png": "[encoded data removed]",
      "text/plain": [
       "<Figure size 660x260 with 4 Axes>"
      ]
     },
     "metadata": {},
     "output_type": "display_data"
    }
   ],
   "source": [
    "plot_roi(mask_combined, resampling_interpolation='nearest')"
   ]
  },
  {
   "cell_type": "markdown",
   "id": "ccd10efd",
   "metadata": {},
   "source": [
    "TODO: explore which MIST regions have small overlap with our mask, and possibly create a custom MIST atlas by excluding those regions "
   ]
  },
  {
   "cell_type": "markdown",
   "id": "86395d06",
   "metadata": {},
   "source": [
    "We can now load voxel-wise data for one subject:"
   ]
  },
  {
   "cell_type": "code",
   "execution_count": 29,
   "id": "f60f7e8d",
   "metadata": {},
   "outputs": [
    {
     "name": "stdout",
     "output_type": "stream",
     "text": [
      "[NiftiMasker.fit] Loading data from None\n",
      "[NiftiMasker.fit] Resampling mask\n",
      "________________________________________________________________________________\n",
      "[Memory] Calling nilearn.image.resampling.resample_img...\n",
      "resample_img(<nibabel.nifti1.Nifti1Image object at 0x7f89049adbe0>, target_affine=None, target_shape=None, copy=False, interpolation='nearest')\n",
      "_____________________________________________________resample_img - 0.0s, 0.0min\n",
      "________________________________________________________________________________\n",
      "[Memory] Calling nilearn.maskers.nifti_masker._filter_and_mask...\n",
      "_filter_and_mask('/home/pbellec/nilearn_data/development_fmri/development_fmri/sub-pixar123_task-pixar_space-MNI152NLin2009cAsym_desc-preproc_bold.nii.gz', \n",
      "<nibabel.nifti1.Nifti1Image object at 0x7f89049adbe0>, { 'detrend': False,\n",
      "  'dtype': None,\n",
      "  'high_pass': None,\n",
      "  'high_variance_confounds': False,\n",
      "  'low_pass': None,\n",
      "  'reports': True,\n",
      "  'runs': None,\n",
      "  'smoothing_fwhm': None,\n",
      "  'standardize': True,\n",
      "  'standardize_confounds': True,\n",
      "  't_r': None,\n",
      "  'target_affine': None,\n",
      "  'target_shape': None}, memory_level=1, memory=Memory(location=nilearn_cache/joblib), verbose=5, confounds=[ '/home/pbellec/nilearn_data/development_fmri/development_fmri/sub-pixar123_task-pixar_desc-reducedConfounds_regressors.tsv'], sample_mask=None, copy=True, dtype=None)\n",
      "[NiftiMasker.transform_single_imgs] Loading data from Nifti1Image('/home/pbellec/nilearn_data/development_fmri/development_fmri/sub-pixar123_task-pixar_space-MNI152NLin2009cAsym_desc-preproc_bold.nii.gz')\n",
      "[NiftiMasker.transform_single_imgs] Extracting region signals\n",
      "[NiftiMasker.transform_single_imgs] Cleaning extracted signals\n",
      "__________________________________________________filter_and_mask - 0.9s, 0.0min\n"
     ]
    }
   ],
   "source": [
    "from nilearn.maskers import NiftiMasker\n",
    "masker = NiftiMasker(standardize=True, mask_img=mask_combined, \n",
    "                           memory='nilearn_cache', verbose=5)\n",
    "time_series_voxel = masker.fit_transform(imgs[0], confounds=confounds[0])"
   ]
  },
  {
   "cell_type": "markdown",
   "id": "53e3e6b4",
   "metadata": {},
   "source": [
    "We have standardized the voxel time series. We convert that back into 4D so we can apply the LabelsMasker on it. "
   ]
  },
  {
   "cell_type": "code",
   "execution_count": 31,
   "id": "3bdafa2b",
   "metadata": {},
   "outputs": [
    {
     "name": "stdout",
     "output_type": "stream",
     "text": [
      "________________________________________________________________________________\n",
      "[Memory] Calling nilearn.masking.unmask...\n",
      "unmask(array([[-0.177942, ..., -1.02396 ],\n",
      "       ...,\n",
      "       [-0.757937, ..., -0.15459 ]]), \n",
      "<nibabel.nifti1.Nifti1Image object at 0x7f89049adbe0>)\n",
      "___________________________________________________________unmask - 0.4s, 0.0min\n"
     ]
    }
   ],
   "source": [
    "img_n = masker.inverse_transform(time_series_voxel)"
   ]
  },
  {
   "cell_type": "markdown",
   "id": "5ec31da5",
   "metadata": {},
   "source": [
    "before we do what comes next, we need to do gymnastics to ensure that we remove voxels in the mist template that are *not* in the grey matter template. No time for that here.\n"
   ]
  },
  {
   "cell_type": "markdown",
   "id": "9b1ed75f",
   "metadata": {},
   "source": [
    "Time to apply the LabelsMasker."
   ]
  },
  {
   "cell_type": "code",
   "execution_count": 34,
   "id": "10da6722",
   "metadata": {},
   "outputs": [
    {
     "name": "stdout",
     "output_type": "stream",
     "text": [
      "[NiftiLabelsMasker.fit_transform] loading data from Nifti1Image('/home/pbellec/nilearn_data/basc_multiscale_2015/template_cambridge_basc_multiscale_nii_sym/template_cambridge_basc_multiscale_sym_scale064.nii.gz')\n",
      "Resampling labels\n",
      "[Memory]0.7s, 0.0min    : Loading _filter_and_extract...\n",
      "__________________________________filter_and_extract cache loaded - 0.0s, 0.0min\n"
     ]
    }
   ],
   "source": [
    "# Compute time series. Here, I am setting 'standardize' to False and then using the function correct_mean_var, \n",
    "# since the time series I will be using are not standardized so wanted to check functionality\n",
    "masker_mist = NiftiLabelsMasker(labels_img=img_mist, standardize=False,\n",
    "                           memory='nilearn_cache', verbose=5)\n",
    "time_series_mist = masker_mist.fit_transform(img_n)"
   ]
  },
  {
   "cell_type": "markdown",
   "id": "3214b978",
   "metadata": {},
   "source": [
    "Let's observe the variance of the time series. Those are directly related to the AFC of the parcels, although they need to be controlled for the size of parcels. "
   ]
  },
  {
   "cell_type": "code",
   "execution_count": 63,
   "id": "1d68c531",
   "metadata": {},
   "outputs": [
    {
     "data": {
      "text/plain": [
       "array([0.02342575, 0.03910933, 0.01173844, 0.01641473, 0.        ,\n",
       "       0.00663648, 0.06493155, 0.01594729, 0.00153472, 0.05909162,\n",
       "       0.        , 0.00157711, 0.02532564, 0.02946869, 0.        ,\n",
       "       0.03666929, 0.04250325, 0.0273159 , 0.05437295, 0.07259171,\n",
       "       0.03170521, 0.0025063 , 0.04952416, 0.01482298, 0.00949417,\n",
       "       0.02014608, 0.04433918, 0.0296272 , 0.00059866, 0.07789224,\n",
       "       0.07820752, 0.04216064, 0.14813512, 0.04979274, 0.07708937,\n",
       "       0.00944081, 0.06067961, 0.06690489, 0.02113607, 0.0629136 ,\n",
       "       0.01227301, 0.02499261, 0.06405503, 0.        , 0.01452952,\n",
       "       0.03230438, 0.03617524, 0.        , 0.05759401, 0.0194448 ,\n",
       "       0.04421128, 0.03223098, 0.04625965, 0.02522097, 0.02600274,\n",
       "       0.02306564, 0.03251372, 0.03887128, 0.06622522, 0.01766225,\n",
       "       0.02289135, 0.0351183 , 0.03348988, 0.03580282])"
      ]
     },
     "execution_count": 63,
     "metadata": {},
     "output_type": "execute_result"
    }
   ],
   "source": [
    "np.var(time_series_mist, axis=0)"
   ]
  },
  {
   "cell_type": "markdown",
   "id": "cbf1705a",
   "metadata": {},
   "source": [
    "Finally we derive AFC using the same formula as in NIAK:"
   ]
  },
  {
   "cell_type": "code",
   "execution_count": 39,
   "id": "bd9e685c",
   "metadata": {},
   "outputs": [],
   "source": [
    "# Compute AFC. The following cells are adapted from https://github.com/SIMEXP/niak/blob/master/bricks/connectome/niak_brick_connectome.m#L248-L262 \n",
    "# and I have added the corresponding matlab line\n",
    "\n",
    "# NIAK: ir = var(tseries_n,[],1)';\n",
    "var_mist = time_series_mist.var(axis=0) "
   ]
  },
  {
   "cell_type": "code",
   "execution_count": 65,
   "id": "e7e7cf3c",
   "metadata": {},
   "outputs": [],
   "source": [
    "# Get size of ROIs\n",
    "\n",
    "# NIAK: N = niak_build_size_roi (all_mask{num_m});\n",
    "size_parcels, labels = build_size_roi(img_mist.get_fdata()) "
   ]
  },
  {
   "cell_type": "code",
   "execution_count": 66,
   "id": "fbd30725",
   "metadata": {},
   "outputs": [],
   "source": [
    "# NIAK: mask_0 = (N==0)|(N==1);\n",
    "mask_empty = (size_parcels==0) | (size_parcels==1)"
   ]
  },
  {
   "cell_type": "code",
   "execution_count": 82,
   "id": "475b1b92",
   "metadata": {},
   "outputs": [
    {
     "data": {
      "text/plain": [
       "(64, 1)"
      ]
     },
     "execution_count": 82,
     "metadata": {},
     "output_type": "execute_result"
    }
   ],
   "source": [
    "np.shape((size_parcels * (size_parcels - 1)))"
   ]
  },
  {
   "cell_type": "code",
   "execution_count": 78,
   "id": "7efcdd4d",
   "metadata": {},
   "outputs": [],
   "source": [
    "var_mist = np.reshape(var_mist, [var_mist.shape[0], 1])"
   ]
  },
  {
   "cell_type": "code",
   "execution_count": 83,
   "id": "b4e30683",
   "metadata": {},
   "outputs": [
    {
     "data": {
      "text/plain": [
       "array([[ 0.02247946],\n",
       "       [ 0.03681603],\n",
       "       [ 0.00898562],\n",
       "       [ 0.01519137],\n",
       "       [-0.00193798],\n",
       "       [ 0.00530489],\n",
       "       [ 0.06261128],\n",
       "       [ 0.01248232],\n",
       "       [ 0.00020698],\n",
       "       [ 0.05655548],\n",
       "       [-0.00102459],\n",
       "       [ 0.00069511],\n",
       "       [ 0.02393524],\n",
       "       [ 0.02840451],\n",
       "       [-0.00122699],\n",
       "       [ 0.03440263],\n",
       "       [ 0.04100011],\n",
       "       [ 0.02604938],\n",
       "       [ 0.05315279],\n",
       "       [ 0.07130899],\n",
       "       [ 0.02897762],\n",
       "       [ 0.00145186],\n",
       "       [ 0.04830246],\n",
       "       [ 0.01376932],\n",
       "       [ 0.00856932],\n",
       "       [ 0.01879269],\n",
       "       [ 0.04340409],\n",
       "       [ 0.02860683],\n",
       "       [-0.00028498],\n",
       "       [ 0.07654413],\n",
       "       [ 0.07680021],\n",
       "       [ 0.04088352],\n",
       "       [ 0.14586952],\n",
       "       [ 0.04831496],\n",
       "       [ 0.0761792 ],\n",
       "       [ 0.008462  ],\n",
       "       [ 0.0595962 ],\n",
       "       [ 0.06561072],\n",
       "       [ 0.01987465],\n",
       "       [ 0.06192719],\n",
       "       [ 0.01139503],\n",
       "       [ 0.02348097],\n",
       "       [ 0.0631645 ],\n",
       "       [-0.00106496],\n",
       "       [ 0.01386635],\n",
       "       [ 0.03175078],\n",
       "       [ 0.03540664],\n",
       "       [-0.00103627],\n",
       "       [ 0.05626104],\n",
       "       [ 0.01855662],\n",
       "       [ 0.043485  ],\n",
       "       [ 0.03140524],\n",
       "       [ 0.04546817],\n",
       "       [ 0.02422222],\n",
       "       [ 0.02475722],\n",
       "       [ 0.02211254],\n",
       "       [ 0.03193852],\n",
       "       [ 0.03794533],\n",
       "       [ 0.06554264],\n",
       "       [ 0.01691692],\n",
       "       [ 0.02211402],\n",
       "       [ 0.03418243],\n",
       "       [ 0.03257289],\n",
       "       [ 0.03518751]])"
      ]
     },
     "execution_count": 83,
     "metadata": {},
     "output_type": "execute_result"
    }
   ],
   "source": [
    "# NIAK: ir = ((N.^2).*ir-N)./(N.*(N-1));\n",
    "# This is not correct because it should result in a 64x1 array, but I can't work out what it should be...\n",
    "var_mist = np.reshape(var_mist, [var_mist.shape[0], 1])\n",
    "afc = ((size_parcels * size_parcels) * var_mist - size_parcels)/(size_parcels * (size_parcels - 1))\n",
    "afc"
   ]
  },
  {
   "cell_type": "code",
   "execution_count": 84,
   "id": "07b45798",
   "metadata": {},
   "outputs": [],
   "source": [
    "# NIAK: ir(mask_0) = 0;\n",
    "# throws error\n",
    "afc[mask_empty] = 0"
   ]
  },
  {
   "cell_type": "code",
   "execution_count": null,
   "id": "11d8c68d",
   "metadata": {},
   "outputs": [],
   "source": [
    "# NIAK: conn(eye(size(conn))>0) = ir; % A tricky formula to add the average correlation within each network, at the voxel level, on the diagonal\n",
    "# I think the below is doing what the NIAK code is, but unsure since the result of my 'ir' is incorrect\n",
    "diagonal = np.diag_indices_from(conn)\n",
    "conn[diagonal] = ir"
   ]
  },
  {
   "cell_type": "code",
   "execution_count": null,
   "id": "89b16f93",
   "metadata": {},
   "outputs": [],
   "source": [
    "# Convert conn to lower vector\n",
    "conn_lvec = mat2lvec(conn)"
   ]
  },
  {
   "cell_type": "code",
   "execution_count": null,
   "id": "83707417",
   "metadata": {},
   "outputs": [],
   "source": [
    "# Fisher-Z transform, unsure how to handle the inf and nan values?\n",
    "conn_z = np.arctanh(conn_lvec) "
   ]
  },
  {
   "cell_type": "code",
   "execution_count": null,
   "id": "3e0d0dca",
   "metadata": {},
   "outputs": [],
   "source": []
  },
  {
   "cell_type": "code",
   "execution_count": null,
   "id": "fab6cc37",
   "metadata": {},
   "outputs": [],
   "source": []
  },
  {
   "cell_type": "code",
   "execution_count": null,
   "id": "d5627bcd",
   "metadata": {},
   "outputs": [],
   "source": []
  },
  {
   "cell_type": "code",
   "execution_count": null,
   "id": "ebeae4ff",
   "metadata": {},
   "outputs": [],
   "source": []
  }
 ],
 "metadata": {
  "kernelspec": {
   "display_name": "Python 3",
   "language": "python",
   "name": "python3"
  },
  "language_info": {
   "codemirror_mode": {
    "name": "ipython",
    "version": 3
   },
   "file_extension": ".py",
   "mimetype": "text/x-python",
   "name": "python",
   "nbconvert_exporter": "python",
   "pygments_lexer": "ipython3",
   "version": "3.8.10"
  }
 },
 "nbformat": 4,
 "nbformat_minor": 5
}
