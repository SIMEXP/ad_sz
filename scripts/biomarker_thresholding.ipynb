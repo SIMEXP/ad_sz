{
 "cells": [
  {
   "cell_type": "code",
   "execution_count": 1,
   "id": "d213377a",
   "metadata": {},
   "outputs": [],
   "source": [
    "import pandas as pd\n",
    "import numpy as np\n",
    "\n",
    "from pathlib import Path"
   ]
  },
  {
   "cell_type": "code",
   "execution_count": 2,
   "id": "60d0393b",
   "metadata": {},
   "outputs": [],
   "source": [
    "def biomarker_negative_controls(df):\n",
    "    \n",
    "    '''\n",
    "    Take a df with biomarker results for participants labelled as controls, and return a df excluding those\n",
    "    who have a positive result on any one of five markers (or no biomarker information).\n",
    "    \n",
    "    To get more info on which biomarkers are positive, uncomment last section. But this is only to give an \n",
    "    idea, since some may be positive on more than one marker.\n",
    "    '''\n",
    "    \n",
    "    controls_all = df.loc[df['Research Group'] == 'CN']\n",
    "    \n",
    "    # drop participants who don't have any biomarker data\n",
    "    controls = controls_all.dropna(subset=['ABETA','PTAU','AV45','FBB','META_TEMPORAL_SUVR'], how='all')\n",
    "    \n",
    "    controls_biomarker_neg = (controls[(controls['FBB'] < fbb_lower) | \n",
    "             (controls['AV45'] < av45_lower) | \n",
    "             (controls['ABETA'] > ab42_upper) | \n",
    "            (controls['PTAU'] < ptau_lower) | \n",
    "            (controls['META_TEMPORAL_SUVR'] < tau_lower)])\n",
    "    \n",
    "    no_markers = len(controls_all)-len(controls)\n",
    "    n_controls = len(controls)\n",
    "    n_controls_negative = len(controls_biomarker_neg)\n",
    "    n_dropped = n_controls - n_controls_negative\n",
    "    \n",
    "    print ('Of {} controls, {} dropped due to no biomarker data and {} due to positive/borderline biomarkers. {} remaining.'.format(\n",
    "        n_controls,\n",
    "        no_markers, \n",
    "        n_dropped,\n",
    "        n_controls_negative))\n",
    "    \n",
    "    '''\n",
    "    controls_biomarker_pos = pd.concat([controls,controls_biomarker_neg]).drop_duplicates(keep=False)\n",
    "    print ('{} positive/borderline for Abeta42.'.format(len(controls_biomarker_pos[(controls_biomarker_pos['ABETA'] < ab42_upper)])))\n",
    "    print ('{} positive/borderline for Ptau.'.format(len(controls_biomarker_pos[(controls_biomarker_pos['PTAU'] > ptau_lower)])))\n",
    "    print ('{} positive/borderline for PET amyloid (FBB tracer).'.format(len(controls_biomarker_pos[(controls_biomarker_pos['FBB'] > fbb_lower)])))\n",
    "    print ('{} positive/borderline for PET amyloid (AV45 tracer).'.format(len(controls_biomarker_pos[(controls_biomarker_pos['AV45'] > av45_lower)])))\n",
    "    print ('{} positive/borderline for PET tau (meta temporal suvr).'.format(len(controls_biomarker_pos[(controls_biomarker_pos['META_TEMPORAL_SUVR'] > tau_lower)])))\n",
    "    '''\n",
    "    return (controls_biomarker_neg)\n"
   ]
  },
  {
   "cell_type": "code",
   "execution_count": 3,
   "id": "b3a95289",
   "metadata": {},
   "outputs": [],
   "source": [
    "def biomarker_positive_patients(df, diagnoses):\n",
    "    \n",
    "    '''\n",
    "    Take a df with biomarker results for participants labelled as a patient (specifying which), \n",
    "    and return a df including only those who have a positive result on any one of five markers. \n",
    "    Exclude any with no biomarker information.\n",
    "    \n",
    "    To get more info on which biomarkers are negative, uncomment last section. But this is only to give an \n",
    "    idea, since some may be negative on more than one marker.\n",
    "    '''\n",
    "    \n",
    "    patients_all = df.loc[df['Research Group'].isin(diagnoses)]\n",
    "    \n",
    "    # drop participants who don't have any biomarker data\n",
    "    patients = patients_all.dropna(subset=['ABETA','PTAU','AV45','FBB','META_TEMPORAL_SUVR'], how='all')\n",
    "    \n",
    "    patients_biomarker_pos = (patients[(patients['FBB'] > fbb_upper) | \n",
    "             (patients['AV45'] > av45_upper) | \n",
    "             (patients['ABETA'] < ab42_lower) | \n",
    "             (patients['PTAU'] > ptau_upper) |\n",
    "            (patients['META_TEMPORAL_SUVR'] > tau_upper)])\n",
    "    \n",
    "    no_markers = len(patients_all)-len(patients)\n",
    "    n_patients = len(patients)\n",
    "    n_patients_positive = len(patients_biomarker_pos)\n",
    "    n_dropped = n_patients - n_patients_positive\n",
    "    \n",
    "    print ('Of {} {}, {} dropped due to no biomarker data and {} due to negative/borderline biomarkers. {} remaining.'.format(\n",
    "        n_patients,\n",
    "        diagnoses,\n",
    "        no_markers,\n",
    "       n_dropped,\n",
    "      n_patients_positive))\n",
    "    \n",
    "    '''\n",
    "    patients_neg = pd.concat([patients,patients_biomarker_pos]).drop_duplicates(keep=False)\n",
    "    \n",
    "    print ('{} negative/borderline for Abeta42.'.format(len(patients_neg[(patients_neg['ABETA'] > ab42_lower)])))\n",
    "    print ('{} negative/borderline for Ptau.'.format(len(patients_neg[(patients_neg['PTAU'] < ptau_upper)])))\n",
    "    print ('{} negative/borderline for PET amyloid (FBB tracer).'.format(len(patients_neg[(patients_neg['FBB'] < fbb_upper)])))\n",
    "    print ('{} negative/borderline for PET amyloid (AV45 tracer).'.format(len(patients_neg[(patients_neg['AV45'] < av45_upper)])))\n",
    "    print ('{} negative/borderline for PET tau (meta temporal suvr).'.format(len(patients_neg[(patients_neg['META_TEMPORAL_SUVR'] < tau_upper)])))\n",
    "    '''\n",
    "    return (patients_biomarker_pos)"
   ]
  },
  {
   "cell_type": "code",
   "execution_count": 4,
   "id": "d5a0ffd8",
   "metadata": {},
   "outputs": [],
   "source": [
    "# paths to files\n",
    "biomarker_data = Path(\"__file__\").resolve().parents[1] / 'data' / 'master_biomarkers.csv'"
   ]
  },
  {
   "cell_type": "code",
   "execution_count": 5,
   "id": "934712dc",
   "metadata": {},
   "outputs": [],
   "source": [
    "# load baseline data\n",
    "df = pd.read_csv(biomarker_data, index_col=0, header=0)"
   ]
  },
  {
   "cell_type": "code",
   "execution_count": 6,
   "id": "3b6c5c6d",
   "metadata": {},
   "outputs": [],
   "source": [
    "# replace some biomarker data which has been coded as > or <\n",
    "df = df.replace({'ABETA': {'>1700': 1701, '<200': 199}})\n",
    "df = df.replace({'PTAU': {'<8': 7, '>120':121}})\n",
    "\n",
    "df[['ABETA', 'PTAU']] = df[['ABETA', 'PTAU']].apply(pd.to_numeric)"
   ]
  },
  {
   "cell_type": "code",
   "execution_count": 7,
   "id": "935c6783",
   "metadata": {},
   "outputs": [],
   "source": [
    "# set thresholds and calculate 5% margin\n",
    "\n",
    "# CSF biomarkers\n",
    "ab42_threshold = 980\n",
    "ab42_margin = (5*ab42_threshold)/100\n",
    "ab42_upper = ab42_threshold+ab42_margin\n",
    "ab42_lower = ab42_threshold-ab42_margin\n",
    "\n",
    "ptau_threshold = 23\n",
    "ptau_margin = (5*ptau_threshold)/100\n",
    "ptau_upper = ptau_threshold+ptau_margin\n",
    "ptau_lower = ptau_threshold-ptau_margin\n",
    "\n",
    "# PET biomarkers\n",
    "fbb_threshold = 1.08\n",
    "fbb_margin = (5*fbb_threshold)/100\n",
    "fbb_upper = fbb_threshold+fbb_margin\n",
    "fbb_lower = fbb_threshold-fbb_margin\n",
    "\n",
    "av45_threshold = 1.08\n",
    "av45_margin = (5*av45_threshold)/100\n",
    "av45_upper = av45_threshold+av45_margin\n",
    "av45_lower = av45_threshold-av45_margin\n",
    "\n",
    "tau_threshold = 1.37\n",
    "tau_margin = (5*tau_threshold)/100\n",
    "tau_upper = tau_threshold+tau_margin\n",
    "tau_lower = tau_threshold-tau_margin"
   ]
  },
  {
   "cell_type": "code",
   "execution_count": 8,
   "id": "0d123b9f",
   "metadata": {},
   "outputs": [
    {
     "name": "stdout",
     "output_type": "stream",
     "text": [
      "Of 316 controls, 46 dropped due to no biomarker data and 40 due to positive/borderline biomarkers. 276 remaining.\n",
      "Of 51 ['AD'], 7 dropped due to no biomarker data and 4 due to negative/borderline biomarkers. 47 remaining.\n",
      "Of 82 ['EMCI', 'LMCI'], 12 dropped due to no biomarker data and 22 due to negative/borderline biomarkers. 60 remaining.\n"
     ]
    }
   ],
   "source": [
    "# run functions to get negative controls and positive patients\n",
    "controls_bio_neg = biomarker_negative_controls(df)\n",
    "ad_bio_positive = biomarker_positive_patients(df, ['AD'])\n",
    "mci_bio_positive = biomarker_positive_patients(df, ['EMCI','LMCI'])"
   ]
  },
  {
   "cell_type": "code",
   "execution_count": 11,
   "id": "979848a1",
   "metadata": {},
   "outputs": [],
   "source": [
    "master_df = pd.concat([controls_bio_neg, ad_bio_positive, mci_bio_positive])"
   ]
  },
  {
   "cell_type": "code",
   "execution_count": 12,
   "id": "cf508b49",
   "metadata": {},
   "outputs": [],
   "source": [
    "master_df.to_csv(Path(\"__file__\").resolve().parents[1] / 'data' / 'final_biomarker_spreadsheet.csv')"
   ]
  },
  {
   "cell_type": "code",
   "execution_count": null,
   "id": "66df8ad6",
   "metadata": {},
   "outputs": [],
   "source": []
  }
 ],
 "metadata": {
  "kernelspec": {
   "display_name": "Python 3",
   "language": "python",
   "name": "python3"
  },
  "language_info": {
   "codemirror_mode": {
    "name": "ipython",
    "version": 3
   },
   "file_extension": ".py",
   "mimetype": "text/x-python",
   "name": "python",
   "nbconvert_exporter": "python",
   "pygments_lexer": "ipython3",
   "version": "3.9.5"
  }
 },
 "nbformat": 4,
 "nbformat_minor": 5
}
