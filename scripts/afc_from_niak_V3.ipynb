{
 "cells": [
  {
   "cell_type": "code",
   "execution_count": 1,
   "id": "59f7f1c0",
   "metadata": {},
   "outputs": [],
   "source": [
    "import pandas as pd\n",
    "import numpy as np\n",
    "\n",
    "from average_conn_V3 import average_conn"
   ]
  },
  {
   "cell_type": "markdown",
   "id": "e00b5297",
   "metadata": {},
   "source": [
    "# Load data"
   ]
  },
  {
   "cell_type": "code",
   "execution_count": 2,
   "id": "282a393b",
   "metadata": {},
   "outputs": [],
   "source": [
    "from nilearn.datasets import fetch_icbm152_brain_gm_mask, fetch_development_fmri, fetch_atlas_basc_multiscale_2015\n",
    "import nibabel as nib\n",
    "\n",
    "# Load mask of parcels\n",
    "parcellation = fetch_atlas_basc_multiscale_2015(version='sym')['scale064']\n",
    "img_mist = nib.load(parcellation)\n",
    "\n",
    "# Grey matter segmentation from the MNI template \n",
    "mask_mni = fetch_icbm152_brain_gm_mask()\n",
    "\n",
    "# Fetch demo dataset\n",
    "data = fetch_development_fmri(n_subjects=1, reduce_confounds=True)\n",
    "imgs = data.func[0:10]\n",
    "confounds = data.confounds[0:10]"
   ]
  },
  {
   "cell_type": "markdown",
   "id": "0ec79fba",
   "metadata": {},
   "source": [
    "# test private functions"
   ]
  },
  {
   "cell_type": "code",
   "execution_count": 3,
   "id": "45857141",
   "metadata": {},
   "outputs": [],
   "source": [
    "avg_conn = average_conn(imgs, mask_mni, img_mist, confounds)"
   ]
  },
  {
   "cell_type": "markdown",
   "id": "b9c6f04a",
   "metadata": {},
   "source": [
    "## It works on simple data"
   ]
  },
  {
   "cell_type": "markdown",
   "id": "bdb4481e",
   "metadata": {},
   "source": [
    "# Now for whole-brain intra-network average connectivity"
   ]
  },
  {
   "cell_type": "markdown",
   "id": "f621d0a5",
   "metadata": {},
   "source": [
    "Load fMRI data for one subject"
   ]
  },
  {
   "cell_type": "code",
   "execution_count": null,
   "id": "39d458fa",
   "metadata": {},
   "outputs": [],
   "source": []
  },
  {
   "cell_type": "markdown",
   "id": "f7ec07d8",
   "metadata": {},
   "source": [
    "Compute the time series using mist resampled"
   ]
  },
  {
   "cell_type": "code",
   "execution_count": null,
   "id": "3ac96ba3",
   "metadata": {},
   "outputs": [],
   "source": []
  },
  {
   "cell_type": "markdown",
   "id": "87e94c34",
   "metadata": {},
   "source": [
    "Compute the AFC and also get the parcel sizes"
   ]
  },
  {
   "cell_type": "code",
   "execution_count": null,
   "id": "f4f40fc5",
   "metadata": {},
   "outputs": [],
   "source": []
  }
 ],
 "metadata": {
  "kernelspec": {
   "display_name": "Python 3 (ipykernel)",
   "language": "python",
   "name": "python3"
  },
  "language_info": {
   "codemirror_mode": {
    "name": "ipython",
    "version": 3
   },
   "file_extension": ".py",
   "mimetype": "text/x-python",
   "name": "python",
   "nbconvert_exporter": "python",
   "pygments_lexer": "ipython3",
   "version": "3.10.6"
  }
 },
 "nbformat": 4,
 "nbformat_minor": 5
}
