{
 "cells": [
  {
   "cell_type": "code",
   "execution_count": 1,
   "id": "59f7f1c0",
   "metadata": {},
   "outputs": [
    {
     "ename": "IndentationError",
     "evalue": "expected an indented block after function definition on line 48 (average_conn_V3.py, line 51)",
     "output_type": "error",
     "traceback": [
      "Traceback \u001b[0;36m(most recent call last)\u001b[0m:\n",
      "\u001b[0m  File \u001b[1;32m~/.virtualenvs/ad_sz/lib/python3.10/site-packages/IPython/core/interactiveshell.py:3433\u001b[0m in \u001b[1;35mrun_code\u001b[0m\n    exec(code_obj, self.user_global_ns, self.user_ns)\u001b[0m\n",
      "\u001b[0;36m  Cell \u001b[0;32mIn [1], line 4\u001b[0;36m\n\u001b[0;31m    from average_conn_V3 import _mask_brain, _simulate_img,_extract_time_series_voxel, _extract_time_series_parcels, _average_conn, _load_voxel_data, _resample_mist, _compute_tseries, _build_size_roi, _compute_afc, _compute_brute_afc\u001b[0;36m\n",
      "\u001b[0;36m  File \u001b[0;32m~/git/ad_sz/scripts/average_conn_V3.py:51\u001b[0;36m\u001b[0m\n\u001b[0;31m    def _compute_tseries(mist_resampled, mask_img, img_n):\u001b[0m\n\u001b[0m    ^\u001b[0m\n\u001b[0;31mIndentationError\u001b[0m\u001b[0;31m:\u001b[0m expected an indented block after function definition on line 48\n"
     ]
    }
   ],
   "source": [
    "import pandas as pd\n",
    "import numpy as np\n",
    "\n",
    "from average_conn_V3 import _mask_brain, _simulate_img,_extract_time_series_voxel, _extract_time_series_parcels, _average_conn, _load_voxel_data, _resample_mist, _compute_tseries, _build_size_roi, _compute_afc, _compute_brute_afc "
   ]
  },
  {
   "cell_type": "markdown",
   "id": "7e29f788",
   "metadata": {},
   "source": [
    "# Load data"
   ]
  },
  {
   "cell_type": "code",
   "execution_count": null,
   "id": "29ce907a",
   "metadata": {},
   "outputs": [],
   "source": [
    "from nilearn.datasets import fetch_icbm152_brain_gm_mask, fetch_development_fmri, fetch_atlas_basc_multiscale_2015\n",
    "import nibabel as nib\n",
    "\n",
    "# Load mask of parcels\n",
    "parcellation = fetch_atlas_basc_multiscale_2015(version='sym')['scale064']\n",
    "img_mist = nib.load(parcellation)\n",
    "\n",
    "# Grey matter segmentation from the MNI template \n",
    "mask_mni = fetch_icbm152_brain_gm_mask()\n",
    "\n",
    "# Fetch demo dataset\n",
    "data = fetch_development_fmri(n_subjects=1, reduce_confounds=True)\n",
    "imgs = data.func[0:10]\n",
    "confounds = data.confounds[0:10]"
   ]
  },
  {
   "cell_type": "markdown",
   "id": "ee6191c3",
   "metadata": {},
   "source": [
    "# test private functions"
   ]
  },
  {
   "cell_type": "code",
   "execution_count": null,
   "id": "926632fc",
   "metadata": {},
   "outputs": [],
   "source": [
    "mask_brain = _mask_brain(imgs, mask_mni)\n",
    "parcel_brain, parcel_voxel = _parcel_brain(img_mist, mask_brain)"
   ]
  },
  {
   "cell_type": "markdown",
   "id": "b9c6f04a",
   "metadata": {},
   "source": [
    "## It works on simple data"
   ]
  },
  {
   "cell_type": "markdown",
   "id": "bdb4481e",
   "metadata": {},
   "source": [
    "# Now for whole-brain intra-network average connectivity"
   ]
  },
  {
   "cell_type": "markdown",
   "id": "4bdcba36",
   "metadata": {},
   "source": [
    "We first get the mask of parcels, demo dataset, and build a group combined mask"
   ]
  },
  {
   "cell_type": "code",
   "execution_count": null,
   "id": "7ff93136",
   "metadata": {},
   "outputs": [],
   "source": [
    "from nilearn.image import math_img\n",
    "img_mist, imgs, confounds, mask_combined = _load_parcels_compute_mask()\n",
    "\n",
    "\n",
    "#"
   ]
  },
  {
   "cell_type": "markdown",
   "id": "3cadde2d",
   "metadata": {},
   "source": [
    "Optionally visualise the mask"
   ]
  },
  {
   "cell_type": "code",
   "execution_count": null,
   "id": "d04d2f84",
   "metadata": {},
   "outputs": [],
   "source": [
    "#from nilearn.plotting import plot_roi\n",
    "#plot_roi(mask_combined, resampling_interpolation='nearest')"
   ]
  },
  {
   "cell_type": "markdown",
   "id": "f621d0a5",
   "metadata": {},
   "source": [
    "Load fMRI data for one subject"
   ]
  },
  {
   "cell_type": "code",
   "execution_count": null,
   "id": "39d458fa",
   "metadata": {},
   "outputs": [],
   "source": [
    "img_n, time_series_voxel = _load_voxel_data(mask_combined, imgs[0], confounds[0])"
   ]
  },
  {
   "cell_type": "markdown",
   "id": "f7ec07d8",
   "metadata": {},
   "source": [
    "Compute the time series using mist resampled"
   ]
  },
  {
   "cell_type": "code",
   "execution_count": null,
   "id": "3ac96ba3",
   "metadata": {},
   "outputs": [],
   "source": [
    "time_series_mist, masker_mist = _compute_tseries(mist_resampled, mask_combined, img_n)"
   ]
  },
  {
   "cell_type": "markdown",
   "id": "87e94c34",
   "metadata": {},
   "source": [
    "Compute the AFC and also get the parcel sizes"
   ]
  },
  {
   "cell_type": "code",
   "execution_count": null,
   "id": "f4f40fc5",
   "metadata": {},
   "outputs": [],
   "source": [
    "afc, size_parcels = _compute_afc(time_series_mist, masker_mist, mist_voxel)"
   ]
  },
  {
   "cell_type": "markdown",
   "id": "ac43e3c1",
   "metadata": {},
   "source": [
    "## Compute AFC by brute force for all parcels"
   ]
  },
  {
   "cell_type": "code",
   "execution_count": null,
   "id": "406340d9",
   "metadata": {},
   "outputs": [],
   "source": [
    "brute_afc = _compute_brute_afc(time_series_voxel, mist_voxel, masker_mist)"
   ]
  },
  {
   "cell_type": "markdown",
   "id": "bde65364",
   "metadata": {},
   "source": [
    "Compare the two methods"
   ]
  },
  {
   "cell_type": "code",
   "execution_count": null,
   "id": "2658ae12",
   "metadata": {},
   "outputs": [],
   "source": [
    "num_parcel = 50\n",
    "print(f\"parcel number {num_parcel}, size {size_parcels[num_parcel - 1]}: 'NIAK' AFC ={afc[num_parcel - 1]}, 'brute force' AFC ={brute_afc[num_parcel - 1]}\")"
   ]
  },
  {
   "cell_type": "markdown",
   "id": "47e38250",
   "metadata": {},
   "source": [
    "## So, they don't match. Suggestion from Hao-Ting: it might be the mask difference - test has a perfect overlapping mask and parcel, and real data does not (mask_combined, mist_resampled)"
   ]
  },
  {
   "cell_type": "code",
   "execution_count": null,
   "id": "bfbf64f5",
   "metadata": {},
   "outputs": [],
   "source": []
  },
  {
   "cell_type": "code",
   "execution_count": null,
   "id": "a65bff63",
   "metadata": {},
   "outputs": [],
   "source": []
  }
 ],
 "metadata": {
  "kernelspec": {
   "display_name": "Python 3 (ipykernel)",
   "language": "python",
   "name": "python3"
  },
  "language_info": {
   "codemirror_mode": {
    "name": "ipython",
    "version": 3
   },
   "file_extension": ".py",
   "mimetype": "text/x-python",
   "name": "python",
   "nbconvert_exporter": "python",
   "pygments_lexer": "ipython3",
   "version": "3.10.6"
  }
 },
 "nbformat": 4,
 "nbformat_minor": 5
}
