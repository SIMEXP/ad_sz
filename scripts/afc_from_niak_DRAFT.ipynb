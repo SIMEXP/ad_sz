{
 "cells": [
  {
   "cell_type": "code",
   "execution_count": 1,
   "id": "9d5138bb",
   "metadata": {},
   "outputs": [],
   "source": [
    "import pandas as pd\n",
    "import numpy as np\n",
    "\n",
    "from nilearn.plotting import plot_roi, plot_stat_map\n",
    "from nilearn.maskers import NiftiMasker\n",
    "from nilearn import datasets\n",
    "from pathlib import Path"
   ]
  },
  {
   "cell_type": "code",
   "execution_count": 21,
   "id": "8dfaa12c",
   "metadata": {},
   "outputs": [],
   "source": [
    "def correct_mean_var(tseries):\n",
    "    \n",
    "# adapted from https://github.com/SIMEXP/niak/blob/master/commands/statistics/niak_correct_mean_var.m\n",
    "# but for a 1D array\n",
    "    \n",
    "    nt = tseries.shape[0]\n",
    "    tseries = tseries.reshape(nt,-1)\n",
    "    \n",
    "    mean_ts = np.mean(tseries,0)\n",
    "    std_ts = tseries.std()\n",
    "    \n",
    "    tseries_n = (tseries - mean_ts)/std_ts\n",
    "    tseries_n = np.ravel(tseries_n)\n",
    "    \n",
    "    return (tseries_n)"
   ]
  },
  {
   "cell_type": "code",
   "execution_count": 15,
   "id": "30130c13",
   "metadata": {},
   "outputs": [],
   "source": [
    "def mat2lvec(mat):\n",
    "    \n",
    "# from https://github.com/SIMEXP/niak/blob/29260775b77d45af540c73705c88cdffa7bbcc39/commands/formats/niak_mat2lvec.m\n",
    "\n",
    "    N = mat.shape[1]\n",
    "    mask = np.tril(np.ones(N))\n",
    "    mask = mask>0\n",
    "    vec = mat[mask]\n",
    "    \n",
    "    return (vec)"
   ]
  },
  {
   "cell_type": "code",
   "execution_count": 3,
   "id": "d29a56f1",
   "metadata": {},
   "outputs": [],
   "source": [
    "ts_path = Path(\"__file__\").resolve().parents[1] / 'data' / 'sub-136S4836_ses-20120806_task-rest_atlas-mist64_desc-deconfound_timeseries.tsv'"
   ]
  },
  {
   "cell_type": "code",
   "execution_count": 20,
   "id": "8dabc7de",
   "metadata": {},
   "outputs": [],
   "source": [
    "# below code calculates maximal overlap between NIAK 64 and 12 regions\n",
    "# adapted from https://github.com/pbellec/misc/blob/master/match_parcels.ipynb\n",
    "\n",
    "masker = NiftiMasker(standardize=False, detrend=False)"
   ]
  },
  {
   "cell_type": "code",
   "execution_count": 5,
   "id": "6bf2abbf",
   "metadata": {},
   "outputs": [
    {
     "data": {
      "text/plain": [
       "array([ 1.,  2.,  3.,  4.,  5.,  6.,  7.,  8.,  9., 10., 11., 12., 13.,\n",
       "       14., 15., 16., 17., 18., 19., 20., 21., 22., 23., 24., 25., 26.,\n",
       "       27., 28., 29., 30., 31., 32., 33., 34., 35., 36., 37., 38., 39.,\n",
       "       40., 41., 42., 43., 44., 45., 46., 47., 48., 49., 50., 51., 52.,\n",
       "       53., 54., 55., 56., 57., 58., 59., 60., 61., 62., 63., 64.],\n",
       "      dtype=float32)"
      ]
     },
     "execution_count": 5,
     "metadata": {},
     "output_type": "execute_result"
    }
   ],
   "source": [
    "mist_64 = datasets.fetch_atlas_basc_multiscale_2015()['scale064']\n",
    "masker.fit(mist_64)\n",
    "mist_vec_64 = masker.transform(mist_64)\n",
    "np.unique(mist_vec_64)"
   ]
  },
  {
   "cell_type": "code",
   "execution_count": 6,
   "id": "ee55fc0e",
   "metadata": {},
   "outputs": [
    {
     "data": {
      "text/plain": [
       "array([ 1.,  2.,  3.,  4.,  5.,  6.,  7.,  8.,  9., 10., 11., 12.],\n",
       "      dtype=float32)"
      ]
     },
     "execution_count": 6,
     "metadata": {},
     "output_type": "execute_result"
    }
   ],
   "source": [
    "mist_12 = datasets.fetch_atlas_basc_multiscale_2015()['scale012']\n",
    "masker.fit(mist_12)\n",
    "mist_vec_12 = masker.transform(mist_12)\n",
    "np.unique(mist_vec_12)"
   ]
  },
  {
   "cell_type": "code",
   "execution_count": 7,
   "id": "56b06e1c",
   "metadata": {},
   "outputs": [],
   "source": [
    "match = []\n",
    "best_overlap = []\n",
    "rois = []\n",
    "for roi in np.unique(mist_vec_64):\n",
    "    overlap = []\n",
    "    for roi2 in np.unique(mist_vec_12):\n",
    "        overlap.append(np.sum(mist_vec_12[mist_vec_64 == roi] == roi2) / np.sum(mist_vec_64 == roi))\n",
    "    best_overlap.append(np.max(overlap))\n",
    "    match.append(np.argmax(overlap)+1)\n",
    "    #match.append(np.argmax(overlap))\n",
    "    rois.append(roi)"
   ]
  },
  {
   "cell_type": "code",
   "execution_count": 8,
   "id": "f04b1a87",
   "metadata": {},
   "outputs": [],
   "source": [
    "#for ind, roi in enumerate(np.unique(mist_vec_64)):\n",
    "    #print(f'roi {int(roi)} in MIST_64 has maximal overlap with MIST_12 {match[ind]} ({best_overlap[ind]})')"
   ]
  },
  {
   "cell_type": "code",
   "execution_count": 9,
   "id": "acf6388e",
   "metadata": {},
   "outputs": [
    {
     "data": {
      "text/plain": [
       "array([ 1,  2,  3,  1, 12, 12, 11,  3,  3, 11, 12, 12, 10,  7, 12,  9,  1,\n",
       "        2,  6,  8, 11,  3, 11,  4,  3, 11,  5,  9, 12,  5, 10, 11,  5,  8,\n",
       "        5,  3,  9,  5, 10,  9,  3,  8,  5, 12,  7,  2, 11, 12, 10,  4, 11,\n",
       "        8, 11, 10, 10,  7,  9,  6,  5, 11,  8,  7, 10,  4])"
      ]
     },
     "execution_count": 9,
     "metadata": {},
     "output_type": "execute_result"
    }
   ],
   "source": [
    "part = np.array(match)\n",
    "part"
   ]
  },
  {
   "cell_type": "code",
   "execution_count": 10,
   "id": "5d1bd59d",
   "metadata": {},
   "outputs": [
    {
     "data": {
      "text/html": [
       "<div>\n",
       "<style scoped>\n",
       "    .dataframe tbody tr th:only-of-type {\n",
       "        vertical-align: middle;\n",
       "    }\n",
       "\n",
       "    .dataframe tbody tr th {\n",
       "        vertical-align: top;\n",
       "    }\n",
       "\n",
       "    .dataframe thead th {\n",
       "        text-align: right;\n",
       "    }\n",
       "</style>\n",
       "<table border=\"1\" class=\"dataframe\">\n",
       "  <thead>\n",
       "    <tr style=\"text-align: right;\">\n",
       "      <th></th>\n",
       "      <th>1</th>\n",
       "      <th>2</th>\n",
       "      <th>3</th>\n",
       "      <th>4</th>\n",
       "      <th>5</th>\n",
       "      <th>6</th>\n",
       "      <th>7</th>\n",
       "      <th>8</th>\n",
       "      <th>9</th>\n",
       "      <th>10</th>\n",
       "      <th>...</th>\n",
       "      <th>55</th>\n",
       "      <th>56</th>\n",
       "      <th>57</th>\n",
       "      <th>58</th>\n",
       "      <th>59</th>\n",
       "      <th>60</th>\n",
       "      <th>61</th>\n",
       "      <th>62</th>\n",
       "      <th>63</th>\n",
       "      <th>64</th>\n",
       "    </tr>\n",
       "  </thead>\n",
       "  <tbody>\n",
       "    <tr>\n",
       "      <th>0</th>\n",
       "      <td>-2.165929</td>\n",
       "      <td>-5.442563</td>\n",
       "      <td>-4.111248</td>\n",
       "      <td>-8.392210</td>\n",
       "      <td>-2.031492</td>\n",
       "      <td>-4.869996</td>\n",
       "      <td>-6.041241</td>\n",
       "      <td>-2.472742</td>\n",
       "      <td>3.898415</td>\n",
       "      <td>-1.175191</td>\n",
       "      <td>...</td>\n",
       "      <td>2.145597</td>\n",
       "      <td>-1.359643</td>\n",
       "      <td>-0.346227</td>\n",
       "      <td>-3.733854</td>\n",
       "      <td>-1.384949</td>\n",
       "      <td>-3.909817</td>\n",
       "      <td>-1.817930</td>\n",
       "      <td>-1.254567</td>\n",
       "      <td>-5.964642</td>\n",
       "      <td>-4.373025</td>\n",
       "    </tr>\n",
       "    <tr>\n",
       "      <th>1</th>\n",
       "      <td>-2.257995</td>\n",
       "      <td>0.712717</td>\n",
       "      <td>-3.288544</td>\n",
       "      <td>5.992456</td>\n",
       "      <td>7.945017</td>\n",
       "      <td>8.219452</td>\n",
       "      <td>8.587873</td>\n",
       "      <td>-1.617604</td>\n",
       "      <td>7.808198</td>\n",
       "      <td>8.278348</td>\n",
       "      <td>...</td>\n",
       "      <td>-7.148190</td>\n",
       "      <td>13.555006</td>\n",
       "      <td>4.093032</td>\n",
       "      <td>5.529622</td>\n",
       "      <td>13.156146</td>\n",
       "      <td>14.597897</td>\n",
       "      <td>14.398783</td>\n",
       "      <td>7.980595</td>\n",
       "      <td>11.238144</td>\n",
       "      <td>7.836268</td>\n",
       "    </tr>\n",
       "    <tr>\n",
       "      <th>2</th>\n",
       "      <td>2.466664</td>\n",
       "      <td>9.139753</td>\n",
       "      <td>1.489788</td>\n",
       "      <td>6.490470</td>\n",
       "      <td>-2.829995</td>\n",
       "      <td>12.344437</td>\n",
       "      <td>9.325378</td>\n",
       "      <td>-5.998305</td>\n",
       "      <td>-5.198951</td>\n",
       "      <td>0.728305</td>\n",
       "      <td>...</td>\n",
       "      <td>-2.079952</td>\n",
       "      <td>6.373448</td>\n",
       "      <td>2.782069</td>\n",
       "      <td>7.152576</td>\n",
       "      <td>16.210598</td>\n",
       "      <td>8.555890</td>\n",
       "      <td>2.358696</td>\n",
       "      <td>0.483532</td>\n",
       "      <td>4.230913</td>\n",
       "      <td>5.525417</td>\n",
       "    </tr>\n",
       "    <tr>\n",
       "      <th>3</th>\n",
       "      <td>-3.768618</td>\n",
       "      <td>2.412955</td>\n",
       "      <td>-0.148263</td>\n",
       "      <td>5.879047</td>\n",
       "      <td>-4.234380</td>\n",
       "      <td>8.503470</td>\n",
       "      <td>5.206953</td>\n",
       "      <td>0.842916</td>\n",
       "      <td>-5.250636</td>\n",
       "      <td>-2.659013</td>\n",
       "      <td>...</td>\n",
       "      <td>9.275842</td>\n",
       "      <td>-2.916000</td>\n",
       "      <td>-1.432386</td>\n",
       "      <td>2.579397</td>\n",
       "      <td>-0.502385</td>\n",
       "      <td>1.133186</td>\n",
       "      <td>-1.752010</td>\n",
       "      <td>-1.905537</td>\n",
       "      <td>-1.796795</td>\n",
       "      <td>3.281056</td>\n",
       "    </tr>\n",
       "    <tr>\n",
       "      <th>4</th>\n",
       "      <td>0.959837</td>\n",
       "      <td>0.030847</td>\n",
       "      <td>1.063556</td>\n",
       "      <td>0.786120</td>\n",
       "      <td>-4.510458</td>\n",
       "      <td>5.963081</td>\n",
       "      <td>2.325958</td>\n",
       "      <td>-5.314883</td>\n",
       "      <td>-4.384069</td>\n",
       "      <td>0.912936</td>\n",
       "      <td>...</td>\n",
       "      <td>6.338491</td>\n",
       "      <td>1.459088</td>\n",
       "      <td>0.663091</td>\n",
       "      <td>0.032369</td>\n",
       "      <td>4.417964</td>\n",
       "      <td>0.580905</td>\n",
       "      <td>3.614512</td>\n",
       "      <td>-2.832625</td>\n",
       "      <td>4.945780</td>\n",
       "      <td>5.641926</td>\n",
       "    </tr>\n",
       "    <tr>\n",
       "      <th>...</th>\n",
       "      <td>...</td>\n",
       "      <td>...</td>\n",
       "      <td>...</td>\n",
       "      <td>...</td>\n",
       "      <td>...</td>\n",
       "      <td>...</td>\n",
       "      <td>...</td>\n",
       "      <td>...</td>\n",
       "      <td>...</td>\n",
       "      <td>...</td>\n",
       "      <td>...</td>\n",
       "      <td>...</td>\n",
       "      <td>...</td>\n",
       "      <td>...</td>\n",
       "      <td>...</td>\n",
       "      <td>...</td>\n",
       "      <td>...</td>\n",
       "      <td>...</td>\n",
       "      <td>...</td>\n",
       "      <td>...</td>\n",
       "      <td>...</td>\n",
       "    </tr>\n",
       "    <tr>\n",
       "      <th>135</th>\n",
       "      <td>2.812834</td>\n",
       "      <td>4.994494</td>\n",
       "      <td>5.263446</td>\n",
       "      <td>5.302578</td>\n",
       "      <td>2.124782</td>\n",
       "      <td>4.210033</td>\n",
       "      <td>2.928989</td>\n",
       "      <td>3.889542</td>\n",
       "      <td>-1.024371</td>\n",
       "      <td>0.844949</td>\n",
       "      <td>...</td>\n",
       "      <td>6.413964</td>\n",
       "      <td>-1.917948</td>\n",
       "      <td>1.643073</td>\n",
       "      <td>1.662484</td>\n",
       "      <td>-6.952022</td>\n",
       "      <td>-1.573185</td>\n",
       "      <td>6.132882</td>\n",
       "      <td>-4.178531</td>\n",
       "      <td>1.991206</td>\n",
       "      <td>-1.390446</td>\n",
       "    </tr>\n",
       "    <tr>\n",
       "      <th>136</th>\n",
       "      <td>-1.718192</td>\n",
       "      <td>-4.655519</td>\n",
       "      <td>2.062671</td>\n",
       "      <td>1.198132</td>\n",
       "      <td>-10.482201</td>\n",
       "      <td>4.897816</td>\n",
       "      <td>1.575583</td>\n",
       "      <td>0.767329</td>\n",
       "      <td>-13.192521</td>\n",
       "      <td>3.538400</td>\n",
       "      <td>...</td>\n",
       "      <td>-9.735510</td>\n",
       "      <td>6.274808</td>\n",
       "      <td>1.183247</td>\n",
       "      <td>8.253658</td>\n",
       "      <td>7.635677</td>\n",
       "      <td>2.574422</td>\n",
       "      <td>2.366360</td>\n",
       "      <td>1.327070</td>\n",
       "      <td>7.879750</td>\n",
       "      <td>8.650415</td>\n",
       "    </tr>\n",
       "    <tr>\n",
       "      <th>137</th>\n",
       "      <td>-1.228166</td>\n",
       "      <td>-6.344942</td>\n",
       "      <td>-8.175363</td>\n",
       "      <td>2.770522</td>\n",
       "      <td>7.382033</td>\n",
       "      <td>15.980279</td>\n",
       "      <td>-1.397408</td>\n",
       "      <td>-2.100754</td>\n",
       "      <td>-3.903297</td>\n",
       "      <td>3.063052</td>\n",
       "      <td>...</td>\n",
       "      <td>-13.092385</td>\n",
       "      <td>-3.249014</td>\n",
       "      <td>-5.034153</td>\n",
       "      <td>7.989132</td>\n",
       "      <td>-0.245305</td>\n",
       "      <td>-0.285986</td>\n",
       "      <td>-1.147499</td>\n",
       "      <td>-2.025469</td>\n",
       "      <td>5.280297</td>\n",
       "      <td>7.727571</td>\n",
       "    </tr>\n",
       "    <tr>\n",
       "      <th>138</th>\n",
       "      <td>-4.007438</td>\n",
       "      <td>0.927702</td>\n",
       "      <td>9.447940</td>\n",
       "      <td>-7.432448</td>\n",
       "      <td>-3.710224</td>\n",
       "      <td>5.276390</td>\n",
       "      <td>0.189880</td>\n",
       "      <td>-8.844813</td>\n",
       "      <td>-13.168867</td>\n",
       "      <td>-2.415726</td>\n",
       "      <td>...</td>\n",
       "      <td>-10.877328</td>\n",
       "      <td>-1.735155</td>\n",
       "      <td>-1.723741</td>\n",
       "      <td>-2.812652</td>\n",
       "      <td>9.059184</td>\n",
       "      <td>-0.649153</td>\n",
       "      <td>-10.431928</td>\n",
       "      <td>0.054155</td>\n",
       "      <td>1.036708</td>\n",
       "      <td>-1.793304</td>\n",
       "    </tr>\n",
       "    <tr>\n",
       "      <th>139</th>\n",
       "      <td>3.455760</td>\n",
       "      <td>3.366402</td>\n",
       "      <td>0.693502</td>\n",
       "      <td>0.344406</td>\n",
       "      <td>-17.965920</td>\n",
       "      <td>-4.940672</td>\n",
       "      <td>-7.130995</td>\n",
       "      <td>-11.014458</td>\n",
       "      <td>-2.501915</td>\n",
       "      <td>2.213240</td>\n",
       "      <td>...</td>\n",
       "      <td>-18.408963</td>\n",
       "      <td>3.976309</td>\n",
       "      <td>0.963230</td>\n",
       "      <td>1.548337</td>\n",
       "      <td>15.120247</td>\n",
       "      <td>1.609832</td>\n",
       "      <td>-10.534640</td>\n",
       "      <td>5.011085</td>\n",
       "      <td>2.876146</td>\n",
       "      <td>-4.663854</td>\n",
       "    </tr>\n",
       "  </tbody>\n",
       "</table>\n",
       "<p>140 rows × 64 columns</p>\n",
       "</div>"
      ],
      "text/plain": [
       "            1         2         3         4          5          6         7  \\\n",
       "0   -2.165929 -5.442563 -4.111248 -8.392210  -2.031492  -4.869996 -6.041241   \n",
       "1   -2.257995  0.712717 -3.288544  5.992456   7.945017   8.219452  8.587873   \n",
       "2    2.466664  9.139753  1.489788  6.490470  -2.829995  12.344437  9.325378   \n",
       "3   -3.768618  2.412955 -0.148263  5.879047  -4.234380   8.503470  5.206953   \n",
       "4    0.959837  0.030847  1.063556  0.786120  -4.510458   5.963081  2.325958   \n",
       "..        ...       ...       ...       ...        ...        ...       ...   \n",
       "135  2.812834  4.994494  5.263446  5.302578   2.124782   4.210033  2.928989   \n",
       "136 -1.718192 -4.655519  2.062671  1.198132 -10.482201   4.897816  1.575583   \n",
       "137 -1.228166 -6.344942 -8.175363  2.770522   7.382033  15.980279 -1.397408   \n",
       "138 -4.007438  0.927702  9.447940 -7.432448  -3.710224   5.276390  0.189880   \n",
       "139  3.455760  3.366402  0.693502  0.344406 -17.965920  -4.940672 -7.130995   \n",
       "\n",
       "             8          9        10  ...         55         56        57  \\\n",
       "0    -2.472742   3.898415 -1.175191  ...   2.145597  -1.359643 -0.346227   \n",
       "1    -1.617604   7.808198  8.278348  ...  -7.148190  13.555006  4.093032   \n",
       "2    -5.998305  -5.198951  0.728305  ...  -2.079952   6.373448  2.782069   \n",
       "3     0.842916  -5.250636 -2.659013  ...   9.275842  -2.916000 -1.432386   \n",
       "4    -5.314883  -4.384069  0.912936  ...   6.338491   1.459088  0.663091   \n",
       "..         ...        ...       ...  ...        ...        ...       ...   \n",
       "135   3.889542  -1.024371  0.844949  ...   6.413964  -1.917948  1.643073   \n",
       "136   0.767329 -13.192521  3.538400  ...  -9.735510   6.274808  1.183247   \n",
       "137  -2.100754  -3.903297  3.063052  ... -13.092385  -3.249014 -5.034153   \n",
       "138  -8.844813 -13.168867 -2.415726  ... -10.877328  -1.735155 -1.723741   \n",
       "139 -11.014458  -2.501915  2.213240  ... -18.408963   3.976309  0.963230   \n",
       "\n",
       "           58         59         60         61        62         63        64  \n",
       "0   -3.733854  -1.384949  -3.909817  -1.817930 -1.254567  -5.964642 -4.373025  \n",
       "1    5.529622  13.156146  14.597897  14.398783  7.980595  11.238144  7.836268  \n",
       "2    7.152576  16.210598   8.555890   2.358696  0.483532   4.230913  5.525417  \n",
       "3    2.579397  -0.502385   1.133186  -1.752010 -1.905537  -1.796795  3.281056  \n",
       "4    0.032369   4.417964   0.580905   3.614512 -2.832625   4.945780  5.641926  \n",
       "..        ...        ...        ...        ...       ...        ...       ...  \n",
       "135  1.662484  -6.952022  -1.573185   6.132882 -4.178531   1.991206 -1.390446  \n",
       "136  8.253658   7.635677   2.574422   2.366360  1.327070   7.879750  8.650415  \n",
       "137  7.989132  -0.245305  -0.285986  -1.147499 -2.025469   5.280297  7.727571  \n",
       "138 -2.812652   9.059184  -0.649153 -10.431928  0.054155   1.036708 -1.793304  \n",
       "139  1.548337  15.120247   1.609832 -10.534640  5.011085   2.876146 -4.663854  \n",
       "\n",
       "[140 rows x 64 columns]"
      ]
     },
     "execution_count": 10,
     "metadata": {},
     "output_type": "execute_result"
    }
   ],
   "source": [
    "# below code to calculate afc, adapted from https://github.com/SIMEXP/niak/blob/master/commands/statistics/niak_build_afc.m\n",
    "\n",
    "tseries = pd.read_csv(ts_path, sep='\\t', header=0)\n",
    "tseries"
   ]
  },
  {
   "cell_type": "code",
   "execution_count": 11,
   "id": "44425881",
   "metadata": {},
   "outputs": [
    {
     "data": {
      "text/plain": [
       "array([-2.16592932, -2.25799533,  2.4666636 , -3.76861807,  0.95983665,\n",
       "        1.44530039,  0.4123176 , -2.17651617, -0.54852153, -2.49657688,\n",
       "        2.69524661,  1.45094291,  2.46580188,  2.83097709,  2.78072097,\n",
       "        3.789421  ,  1.86343248,  3.54253549, -1.69834722, -0.71918595,\n",
       "       -6.49682154, -1.08137756,  0.67650634, -4.23207181, -2.93785406,\n",
       "       -3.73412084, -0.9363547 ,  0.05775755, -1.56248069, -4.18776622,\n",
       "       -3.79732643, -0.66219313,  1.30778611, -0.21609294, -0.10789552,\n",
       "        1.59142761, -0.59211293,  1.11396123,  0.4473311 ,  2.25768614,\n",
       "        2.86098541, -1.85709488, -4.88668642,  0.77042691,  3.75198029,\n",
       "        2.02836121,  0.29309868, -0.61638084, -0.19100936,  0.96168983,\n",
       "        2.25982481,  0.24564729, -2.67571727,  1.37671668,  2.28716243,\n",
       "        5.22919987, -1.74887862, -5.61133388, -1.91102777, -0.19808274,\n",
       "       -2.57821423,  1.29337943,  0.50029643,  3.28493065,  0.95254726,\n",
       "       -0.87751195, -4.16928436, -3.8049263 ,  2.01817793,  6.4863818 ,\n",
       "        3.00935713,  2.35398093, -0.49889964, -1.06828025,  1.81270485,\n",
       "        1.57779729,  0.20498449,  1.57913003, -0.18679575,  3.10793872,\n",
       "       -1.65618488, -2.16071789, -2.33110208,  1.40020119, -0.77643909,\n",
       "       -3.34243243, -7.79988256,  4.22110657, 10.31789328,  8.66636108,\n",
       "        5.5952823 ,  6.34307142,  6.78013063,  2.91677363,  3.18840799,\n",
       "       -1.77131717, -0.27973667, -0.21100467, -0.55184714, -0.33160523,\n",
       "       -3.15266736, -0.35697459, -1.8740112 , -5.3286894 , -4.93486404,\n",
       "       -5.97873938, -7.7283374 , -6.21007532, -4.22793739, -0.58895731,\n",
       "        4.22130401,  4.70717477,  6.24023457,  1.9344291 ,  0.59614578,\n",
       "       -0.91847409, -1.62799159, -1.82526298, -1.54497681, -3.61302743,\n",
       "       -2.32161188, -1.06571527, -1.63823853, -0.39550389,  1.66998851,\n",
       "       -0.07325358, -0.21301108,  4.9611505 , -0.75443133, -2.57191058,\n",
       "        0.75049109,  0.63664336, -3.37304218, -0.18495439,  4.10727099,\n",
       "        2.81283378, -1.71819199, -1.22816569, -4.00743818,  3.45576011])"
      ]
     },
     "execution_count": 11,
     "metadata": {},
     "output_type": "execute_result"
    }
   ],
   "source": [
    "tseries = tseries.values\n",
    "tseries[:,0]  #check matches expected matlab input"
   ]
  },
  {
   "cell_type": "code",
   "execution_count": 12,
   "id": "4055d379",
   "metadata": {},
   "outputs": [],
   "source": [
    "nb_netwk = np.max(part)\n",
    "afc = np.zeros([nb_netwk,nb_netwk])"
   ]
  },
  {
   "cell_type": "code",
   "execution_count": 14,
   "id": "3e46c76a",
   "metadata": {},
   "outputs": [],
   "source": [
    "# possibly to try and replace\n",
    "#ts_corrected = [correct_mean_var(ts) for ts in tseries.T]\n",
    "#ts_corrected = np.array(ts_corrected).T"
   ]
  },
  {
   "cell_type": "code",
   "execution_count": 16,
   "id": "d9fc4329",
   "metadata": {},
   "outputs": [],
   "source": [
    "# Computation of the mean signal per network\n",
    "tseries_moy = np.zeros([tseries.shape[0], nb_netwk])  # for n rows x 12\n",
    "siz_netwk = np.zeros([1,nb_netwk]) \n",
    "\n",
    "for num_n in range(1,nb_netwk+1):\n",
    "    netwk_ts = []\n",
    "    for ts, roi_netwk in zip(tseries.T, part):\n",
    "        if roi_netwk == num_n:\n",
    "            ts_n = correct_mean_var(ts)\n",
    "            netwk_ts.append(ts_n)\n",
    "    \n",
    "    siz_netwk[:,num_n-1] = sum(part == num_n)\n",
    "    tseries_moy[:,num_n-1] = np.mean(netwk_ts, axis=0)\n",
    "    \n",
    "afc = (1/(tseries_moy.shape[0]-1))*tseries_moy.T.dot(tseries_moy)\n",
    "diagonal = np.diag_indices_from(afc)\n",
    "afc[diagonal] = (afc[diagonal] - 1/siz_netwk)*siz_netwk/(siz_netwk-1)"
   ]
  },
  {
   "cell_type": "code",
   "execution_count": 23,
   "id": "573d490a",
   "metadata": {},
   "outputs": [
    {
     "data": {
      "text/plain": [
       "array([ 5.58531925e-01,  2.55429972e-01,  4.50130561e-01,  1.83965824e-01,\n",
       "        9.51216442e-02,  3.08598245e-01,  3.52601934e-01,  2.90927523e-01,\n",
       "        2.32672735e-01,  4.69771885e-01, -9.42042954e-02,  2.16464195e-01,\n",
       "       -1.89728959e-01,  6.11227824e-02,  6.40652674e-01,  3.30743296e-01,\n",
       "        3.42799152e-01,  1.22435643e-02,  4.07672730e-01,  1.27754699e-01,\n",
       "        8.42002039e-01, -1.32847017e-01,  3.94830476e-01,  1.76884971e-02,\n",
       "        2.18255909e-01,  4.44543831e-01,  1.49438027e-01,  7.79105376e-01,\n",
       "        2.69285583e-01,  3.23276350e-01,  2.07085149e-01,  4.80815583e-01,\n",
       "       -8.28252907e-04,  4.43805680e-01,  2.61397320e-01,  5.10865317e-01,\n",
       "        1.47707799e-01,  1.99309150e-01,  1.42702934e-01,  2.62209946e-01,\n",
       "        1.48305111e-01,  2.84700063e-01,  2.23707572e-01,  2.52864589e-01,\n",
       "        2.06855277e-01,  2.71139013e-01,  3.55091014e-01,  1.37016722e-01,\n",
       "        4.40811783e-01,  6.20069886e-02,  4.79091906e-01,  2.81398362e-01,\n",
       "        5.07922595e-01,  2.69355121e-01,  5.11765282e-01,  2.03019455e-01,\n",
       "        4.63687485e-01,  9.99979002e-02,  3.84672924e-01,  1.88058469e-01,\n",
       "        4.08275965e-01,  4.79853205e-01,  4.81078663e-01,  2.65576393e-01,\n",
       "        5.03406378e-01,  5.69819257e-01,  2.07494929e-01,  1.55011520e-01,\n",
       "        9.41773094e-02,  1.79955280e-01, -1.47422339e-02,  3.51934267e-01,\n",
       "       -6.25848689e-02,  2.00327790e-01,  1.59617807e-01,  2.48558006e-01,\n",
       "        1.69222678e-01,  3.39597139e-01])"
      ]
     },
     "execution_count": 23,
     "metadata": {},
     "output_type": "execute_result"
    }
   ],
   "source": [
    "afc_vec = mat2lvec(afc)\n",
    "afc_vec"
   ]
  },
  {
   "cell_type": "code",
   "execution_count": 24,
   "id": "30fb30a6",
   "metadata": {},
   "outputs": [
    {
     "data": {
      "text/plain": [
       "True"
      ]
     },
     "execution_count": 24,
     "metadata": {},
     "output_type": "execute_result"
    }
   ],
   "source": [
    "# issue: final result is slightly different from NIAK. afc is the same, but vectorized takes slightly different values\n",
    "# tests below\n",
    "\n",
    "(afc==afc.T).all() # checking afc array is symmetrical"
   ]
  },
  {
   "cell_type": "code",
   "execution_count": 39,
   "id": "68c98ec4",
   "metadata": {},
   "outputs": [
    {
     "data": {
      "text/plain": [
       "12"
      ]
     },
     "execution_count": 39,
     "metadata": {},
     "output_type": "execute_result"
    }
   ],
   "source": [
    "N = afc.shape[1]\n",
    "N"
   ]
  },
  {
   "cell_type": "code",
   "execution_count": 40,
   "id": "d363dd54",
   "metadata": {},
   "outputs": [
    {
     "data": {
      "text/plain": [
       "array([[1., 0., 0., 0., 0., 0., 0., 0., 0., 0., 0., 0.],\n",
       "       [1., 1., 0., 0., 0., 0., 0., 0., 0., 0., 0., 0.],\n",
       "       [1., 1., 1., 0., 0., 0., 0., 0., 0., 0., 0., 0.],\n",
       "       [1., 1., 1., 1., 0., 0., 0., 0., 0., 0., 0., 0.],\n",
       "       [1., 1., 1., 1., 1., 0., 0., 0., 0., 0., 0., 0.],\n",
       "       [1., 1., 1., 1., 1., 1., 0., 0., 0., 0., 0., 0.],\n",
       "       [1., 1., 1., 1., 1., 1., 1., 0., 0., 0., 0., 0.],\n",
       "       [1., 1., 1., 1., 1., 1., 1., 1., 0., 0., 0., 0.],\n",
       "       [1., 1., 1., 1., 1., 1., 1., 1., 1., 0., 0., 0.],\n",
       "       [1., 1., 1., 1., 1., 1., 1., 1., 1., 1., 0., 0.],\n",
       "       [1., 1., 1., 1., 1., 1., 1., 1., 1., 1., 1., 0.],\n",
       "       [1., 1., 1., 1., 1., 1., 1., 1., 1., 1., 1., 1.]])"
      ]
     },
     "execution_count": 40,
     "metadata": {},
     "output_type": "execute_result"
    }
   ],
   "source": [
    "mask = np.tril(np.ones(N))\n",
    "mask"
   ]
  },
  {
   "cell_type": "code",
   "execution_count": 41,
   "id": "36009780",
   "metadata": {},
   "outputs": [
    {
     "data": {
      "text/plain": [
       "array([[ True, False, False, False, False, False, False, False, False,\n",
       "        False, False, False],\n",
       "       [ True,  True, False, False, False, False, False, False, False,\n",
       "        False, False, False],\n",
       "       [ True,  True,  True, False, False, False, False, False, False,\n",
       "        False, False, False],\n",
       "       [ True,  True,  True,  True, False, False, False, False, False,\n",
       "        False, False, False],\n",
       "       [ True,  True,  True,  True,  True, False, False, False, False,\n",
       "        False, False, False],\n",
       "       [ True,  True,  True,  True,  True,  True, False, False, False,\n",
       "        False, False, False],\n",
       "       [ True,  True,  True,  True,  True,  True,  True, False, False,\n",
       "        False, False, False],\n",
       "       [ True,  True,  True,  True,  True,  True,  True,  True, False,\n",
       "        False, False, False],\n",
       "       [ True,  True,  True,  True,  True,  True,  True,  True,  True,\n",
       "        False, False, False],\n",
       "       [ True,  True,  True,  True,  True,  True,  True,  True,  True,\n",
       "         True, False, False],\n",
       "       [ True,  True,  True,  True,  True,  True,  True,  True,  True,\n",
       "         True,  True, False],\n",
       "       [ True,  True,  True,  True,  True,  True,  True,  True,  True,\n",
       "         True,  True,  True]])"
      ]
     },
     "execution_count": 41,
     "metadata": {},
     "output_type": "execute_result"
    }
   ],
   "source": [
    "mask = mask>0\n",
    "mask"
   ]
  },
  {
   "cell_type": "code",
   "execution_count": 42,
   "id": "12c6b591",
   "metadata": {},
   "outputs": [
    {
     "data": {
      "text/plain": [
       "array([ 5.58531925e-01,  2.55429972e-01,  4.50130561e-01,  1.83965824e-01,\n",
       "        9.51216442e-02,  3.08598245e-01,  3.52601934e-01,  2.90927523e-01,\n",
       "        2.32672735e-01,  4.69771885e-01, -9.42042954e-02,  2.16464195e-01,\n",
       "       -1.89728959e-01,  6.11227824e-02,  6.40652674e-01,  3.30743296e-01,\n",
       "        3.42799152e-01,  1.22435643e-02,  4.07672730e-01,  1.27754699e-01,\n",
       "        8.42002039e-01, -1.32847017e-01,  3.94830476e-01,  1.76884971e-02,\n",
       "        2.18255909e-01,  4.44543831e-01,  1.49438027e-01,  7.79105376e-01,\n",
       "        2.69285583e-01,  3.23276350e-01,  2.07085149e-01,  4.80815583e-01,\n",
       "       -8.28252907e-04,  4.43805680e-01,  2.61397320e-01,  5.10865317e-01,\n",
       "        1.47707799e-01,  1.99309150e-01,  1.42702934e-01,  2.62209946e-01,\n",
       "        1.48305111e-01,  2.84700063e-01,  2.23707572e-01,  2.52864589e-01,\n",
       "        2.06855277e-01,  2.71139013e-01,  3.55091014e-01,  1.37016722e-01,\n",
       "        4.40811783e-01,  6.20069886e-02,  4.79091906e-01,  2.81398362e-01,\n",
       "        5.07922595e-01,  2.69355121e-01,  5.11765282e-01,  2.03019455e-01,\n",
       "        4.63687485e-01,  9.99979002e-02,  3.84672924e-01,  1.88058469e-01,\n",
       "        4.08275965e-01,  4.79853205e-01,  4.81078663e-01,  2.65576393e-01,\n",
       "        5.03406378e-01,  5.69819257e-01,  2.07494929e-01,  1.55011520e-01,\n",
       "        9.41773094e-02,  1.79955280e-01, -1.47422339e-02,  3.51934267e-01,\n",
       "       -6.25848689e-02,  2.00327790e-01,  1.59617807e-01,  2.48558006e-01,\n",
       "        1.69222678e-01,  3.39597139e-01])"
      ]
     },
     "execution_count": 42,
     "metadata": {},
     "output_type": "execute_result"
    }
   ],
   "source": [
    "vec = afc[mask]\n",
    "vec"
   ]
  },
  {
   "cell_type": "code",
   "execution_count": 43,
   "id": "5478b691",
   "metadata": {},
   "outputs": [],
   "source": [
    "np.savetxt('output.csv', vec, delimiter=',', fmt='%f')"
   ]
  },
  {
   "cell_type": "code",
   "execution_count": null,
   "id": "30535899",
   "metadata": {},
   "outputs": [],
   "source": []
  }
 ],
 "metadata": {
  "kernelspec": {
   "display_name": "Python 3",
   "language": "python",
   "name": "python3"
  },
  "language_info": {
   "codemirror_mode": {
    "name": "ipython",
    "version": 3
   },
   "file_extension": ".py",
   "mimetype": "text/x-python",
   "name": "python",
   "nbconvert_exporter": "python",
   "pygments_lexer": "ipython3",
   "version": "3.9.5"
  }
 },
 "nbformat": 4,
 "nbformat_minor": 5
}
