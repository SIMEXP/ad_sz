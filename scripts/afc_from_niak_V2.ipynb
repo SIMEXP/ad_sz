{
 "cells": [
  {
   "cell_type": "code",
   "execution_count": 1,
   "id": "59f7f1c0",
   "metadata": {},
   "outputs": [],
   "source": [
    "import pandas as pd\n",
    "import numpy as np\n",
    "\n",
    "from average_conn_V2 import _simulate_img,_extract_time_series_voxel, _extract_time_series_parcels, _average_conn, _load_parcels_compute_mask, _load_voxel_data, _resample_mist, _compute_tseries, _build_size_roi, _compute_afc, _compute_brute_afc "
   ]
  },
  {
   "cell_type": "markdown",
   "id": "2dcbb4d2",
   "metadata": {},
   "source": [
    "# Let's test the software first"
   ]
  },
  {
   "cell_type": "markdown",
   "id": "33606f12",
   "metadata": {},
   "source": [
    "Simulate some data with only one \"spot\", and calculate time series correltion"
   ]
  },
  {
   "cell_type": "code",
   "execution_count": 2,
   "id": "15072fcf",
   "metadata": {},
   "outputs": [
    {
     "data": {
      "text/plain": [
       "0.6210103489634108"
      ]
     },
     "execution_count": 2,
     "metadata": {},
     "output_type": "execute_result"
    }
   ],
   "source": [
    "img, mask, corr = _simulate_img()\n",
    "corr"
   ]
  },
  {
   "cell_type": "markdown",
   "id": "e8e11653",
   "metadata": {},
   "source": [
    "Brute force AFC calculation"
   ]
  },
  {
   "cell_type": "code",
   "execution_count": 3,
   "id": "7f88ce47",
   "metadata": {},
   "outputs": [],
   "source": [
    "time_series_voxel, masker_voxel = _extract_time_series_voxel(img, mask)"
   ]
  },
  {
   "cell_type": "code",
   "execution_count": 4,
   "id": "30cb205d",
   "metadata": {},
   "outputs": [
    {
     "data": {
      "text/plain": [
       "array([[1.        , 0.62101035],\n",
       "       [0.62101035, 1.        ]])"
      ]
     },
     "execution_count": 4,
     "metadata": {},
     "output_type": "execute_result"
    }
   ],
   "source": [
    "np.corrcoef(time_series_voxel.transpose())"
   ]
  },
  {
   "cell_type": "code",
   "execution_count": 5,
   "id": "dae71481",
   "metadata": {},
   "outputs": [],
   "source": [
    "assert abs(np.corrcoef(time_series_voxel.transpose())[1, 0] - corr) < 1e-10"
   ]
  },
  {
   "cell_type": "markdown",
   "id": "2723b1f6",
   "metadata": {},
   "source": [
    "AFC the NIAK way"
   ]
  },
  {
   "cell_type": "code",
   "execution_count": 6,
   "id": "62e620ad",
   "metadata": {},
   "outputs": [
    {
     "data": {
      "text/plain": [
       "array([[0.62101035]])"
      ]
     },
     "execution_count": 6,
     "metadata": {},
     "output_type": "execute_result"
    }
   ],
   "source": [
    "afc_test = _average_conn(img, mask, mask)\n",
    "afc_test"
   ]
  },
  {
   "cell_type": "code",
   "execution_count": 7,
   "id": "6516a061",
   "metadata": {},
   "outputs": [],
   "source": [
    "assert np.abs(corr - afc_test) < 1e-10"
   ]
  },
  {
   "cell_type": "markdown",
   "id": "b9c6f04a",
   "metadata": {},
   "source": [
    "## It works on simple data"
   ]
  },
  {
   "cell_type": "markdown",
   "id": "bdb4481e",
   "metadata": {},
   "source": [
    "# Now for whole-brain intra-network average connectivity"
   ]
  },
  {
   "cell_type": "markdown",
   "id": "4bdcba36",
   "metadata": {},
   "source": [
    "We first get the mask of parcels, demo dataset, and build a group combined mask"
   ]
  },
  {
   "cell_type": "code",
   "execution_count": 8,
   "id": "7ff93136",
   "metadata": {},
   "outputs": [],
   "source": [
    "img_mist, imgs, confounds, mask_combined = _load_parcels_compute_mask()"
   ]
  },
  {
   "cell_type": "markdown",
   "id": "3cadde2d",
   "metadata": {},
   "source": [
    "Optionally visualise the mask"
   ]
  },
  {
   "cell_type": "code",
   "execution_count": 9,
   "id": "d04d2f84",
   "metadata": {},
   "outputs": [],
   "source": [
    "#from nilearn.plotting import plot_roi\n",
    "#plot_roi(mask_combined, resampling_interpolation='nearest')"
   ]
  },
  {
   "cell_type": "markdown",
   "id": "f621d0a5",
   "metadata": {},
   "source": [
    "Load fMRI data for one subject"
   ]
  },
  {
   "cell_type": "code",
   "execution_count": 10,
   "id": "39d458fa",
   "metadata": {},
   "outputs": [],
   "source": [
    "img_n, time_series_voxel = _load_voxel_data(mask_combined, img_mist, imgs[0], confounds[0])"
   ]
  },
  {
   "cell_type": "markdown",
   "id": "44f45173",
   "metadata": {},
   "source": [
    "Resample mist to the data space"
   ]
  },
  {
   "cell_type": "code",
   "execution_count": 11,
   "id": "1fe80656",
   "metadata": {},
   "outputs": [],
   "source": [
    "mist_resampled, mist_voxel = _resample_mist(img_mist, mask_combined)"
   ]
  },
  {
   "cell_type": "markdown",
   "id": "f7ec07d8",
   "metadata": {},
   "source": [
    "Compute the time series using mist resampled"
   ]
  },
  {
   "cell_type": "code",
   "execution_count": 12,
   "id": "3ac96ba3",
   "metadata": {},
   "outputs": [],
   "source": [
    "time_series_mist, masker_mist = _compute_tseries(mist_resampled, img_n)"
   ]
  },
  {
   "cell_type": "markdown",
   "id": "87e94c34",
   "metadata": {},
   "source": [
    "Compute the AFC and also get the parcel sizes"
   ]
  },
  {
   "cell_type": "code",
   "execution_count": 13,
   "id": "f4f40fc5",
   "metadata": {},
   "outputs": [
    {
     "name": "stderr",
     "output_type": "stream",
     "text": [
      "/Users/natashaclarke/ad_sz/scripts/average_conn_V2.py:94: RuntimeWarning: invalid value encountered in divide\n",
      "  afc = ((size_parcels * size_parcels) * var_mist - size_parcels) / (size_parcels * (size_parcels - 1))\n"
     ]
    }
   ],
   "source": [
    "afc, size_parcels = _compute_afc(time_series_mist, masker_mist, mist_voxel)"
   ]
  },
  {
   "cell_type": "markdown",
   "id": "ac43e3c1",
   "metadata": {},
   "source": [
    "## Compute AFC by brute force for all parcels"
   ]
  },
  {
   "cell_type": "code",
   "execution_count": 14,
   "id": "406340d9",
   "metadata": {},
   "outputs": [
    {
     "name": "stderr",
     "output_type": "stream",
     "text": [
      "/Users/natashaclarke/ad_sz/ad_sz_env/lib/python3.9/site-packages/numpy/core/fromnumeric.py:3432: RuntimeWarning: Mean of empty slice.\n",
      "  return _methods._mean(a, axis=axis, dtype=dtype,\n",
      "/Users/natashaclarke/ad_sz/ad_sz_env/lib/python3.9/site-packages/numpy/core/_methods.py:190: RuntimeWarning: invalid value encountered in double_scalars\n",
      "  ret = ret.dtype.type(ret / rcount)\n"
     ]
    }
   ],
   "source": [
    "brute_afc = _compute_brute_afc(time_series_voxel, mist_voxel, masker_mist)"
   ]
  },
  {
   "cell_type": "markdown",
   "id": "bde65364",
   "metadata": {},
   "source": [
    "Compare the two methods"
   ]
  },
  {
   "cell_type": "code",
   "execution_count": 15,
   "id": "2658ae12",
   "metadata": {},
   "outputs": [
    {
     "name": "stdout",
     "output_type": "stream",
     "text": [
      "parcel number 1, size [323.]: 'NIAK' AFC =[0.0690087], 'brute force' AFC =[0.10419664]\n"
     ]
    }
   ],
   "source": [
    "num_parcel = 1\n",
    "print(f\"parcel number {num_parcel}, size {size_parcels[num_parcel - 1]}: 'NIAK' AFC ={afc[num_parcel - 1]}, 'brute force' AFC ={brute_afc[num_parcel - 1]}\")"
   ]
  },
  {
   "cell_type": "markdown",
   "id": "47e38250",
   "metadata": {},
   "source": [
    "## So, they don't match. Suggestion from Hao-Ting: it might be the mask difference - test has a perfect overlapping mask and parcel, and real data does not (mask_combined, mist_resampled)"
   ]
  },
  {
   "cell_type": "code",
   "execution_count": null,
   "id": "bfbf64f5",
   "metadata": {},
   "outputs": [],
   "source": []
  },
  {
   "cell_type": "code",
   "execution_count": null,
   "id": "a65bff63",
   "metadata": {},
   "outputs": [],
   "source": []
  }
 ],
 "metadata": {
  "kernelspec": {
   "display_name": "Python 3 (ipykernel)",
   "language": "python",
   "name": "python3"
  },
  "language_info": {
   "codemirror_mode": {
    "name": "ipython",
    "version": 3
   },
   "file_extension": ".py",
   "mimetype": "text/x-python",
   "name": "python",
   "nbconvert_exporter": "python",
   "pygments_lexer": "ipython3",
   "version": "3.9.12"
  }
 },
 "nbformat": 4,
 "nbformat_minor": 5
}
